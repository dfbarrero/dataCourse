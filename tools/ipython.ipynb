{
 "cells": [
  {
   "cell_type": "markdown",
   "id": "a25a1cbc",
   "metadata": {},
   "source": [
    "# iPython Tutorial"
   ]
  },
  {
   "cell_type": "code",
   "execution_count": null,
   "id": "22ff879b",
   "metadata": {},
   "outputs": [],
   "source": [
    "help(len)"
   ]
  },
  {
   "cell_type": "code",
   "execution_count": null,
   "id": "b0c16adc",
   "metadata": {},
   "outputs": [],
   "source": [
    "len?"
   ]
  },
  {
   "cell_type": "code",
   "execution_count": null,
   "id": "bfb60a5b",
   "metadata": {},
   "outputs": [],
   "source": [
    "L = [1, \"a\"]\n",
    "L"
   ]
  },
  {
   "cell_type": "code",
   "execution_count": null,
   "id": "b539c65c",
   "metadata": {},
   "outputs": [],
   "source": [
    "L.append?"
   ]
  },
  {
   "cell_type": "code",
   "execution_count": null,
   "id": "05be562b",
   "metadata": {},
   "outputs": [],
   "source": [
    "L?"
   ]
  },
  {
   "cell_type": "code",
   "execution_count": null,
   "id": "aca5c5ab",
   "metadata": {},
   "outputs": [],
   "source": [
    "def incr(x):\n",
    "    \"\"\" Return x increased by 1. \"\"\"\n",
    "    x += 1\n",
    "    return x"
   ]
  },
  {
   "cell_type": "code",
   "execution_count": null,
   "id": "92b1ec97",
   "metadata": {},
   "outputs": [],
   "source": [
    "incr?"
   ]
  },
  {
   "cell_type": "code",
   "execution_count": null,
   "id": "ddc62791",
   "metadata": {},
   "outputs": [],
   "source": [
    "incr??"
   ]
  },
  {
   "cell_type": "code",
   "execution_count": null,
   "id": "e45299f2",
   "metadata": {},
   "outputs": [],
   "source": [
    "len??"
   ]
  },
  {
   "cell_type": "code",
   "execution_count": null,
   "id": "02379574",
   "metadata": {},
   "outputs": [],
   "source": [
    "import os"
   ]
  },
  {
   "cell_type": "code",
   "execution_count": null,
   "id": "868d8a5c",
   "metadata": {},
   "outputs": [],
   "source": [
    "os?"
   ]
  },
  {
   "cell_type": "code",
   "execution_count": null,
   "id": "f3b467a1",
   "metadata": {},
   "outputs": [],
   "source": [
    "os??"
   ]
  },
  {
   "cell_type": "code",
   "execution_count": null,
   "id": "1a17bd74",
   "metadata": {},
   "outputs": [],
   "source": [
    "L.append(\"a\")\n",
    "L"
   ]
  },
  {
   "cell_type": "code",
   "execution_count": null,
   "id": "c63bd7cd",
   "metadata": {},
   "outputs": [],
   "source": [
    "os."
   ]
  },
  {
   "cell_type": "code",
   "execution_count": null,
   "id": "7221bab2",
   "metadata": {},
   "outputs": [],
   "source": [
    "os.getcwd()"
   ]
  },
  {
   "cell_type": "code",
   "execution_count": null,
   "id": "cd4e0e45",
   "metadata": {},
   "outputs": [],
   "source": [
    "import num"
   ]
  },
  {
   "cell_type": "code",
   "execution_count": null,
   "id": "feb71f5c",
   "metadata": {},
   "outputs": [],
   "source": [
    "from os import p<TAB>"
   ]
  },
  {
   "cell_type": "code",
   "execution_count": null,
   "id": "5c03e0e1",
   "metadata": {},
   "outputs": [],
   "source": [
    "L.*nd?"
   ]
  },
  {
   "cell_type": "code",
   "execution_count": null,
   "id": "eefcc3a0",
   "metadata": {},
   "outputs": [],
   "source": [
    "os.*wd*?"
   ]
  },
  {
   "cell_type": "markdown",
   "id": "a12afedb",
   "metadata": {},
   "source": [
    "**SHORTCURTS**\n",
    "\n",
    "*Navigation Shortcuts*:\n",
    "\n",
    "Ctrl-a Move cursor to beginning of line  \n",
    "Ctrl-e Move cursor to end of the line  \n",
    "Ctrl-b or the left arrow key Move cursor back one character  \n",
    "Ctrl-f or the right arrow key Move cursor forward one carácter  \n",
    "\n",
    "*Text Entry Shortcuts*:\n",
    "\n",
    "Backspace key Delete previous character in line  \n",
    "Ctrl-d Delete next character in line  \n",
    "Ctrl-k Cut text from cursor to end of line  \n",
    "Ctrl-u Cut text from beginning of line to cursor  \n",
    "Ctrl-y Yank (i.e., paste) text that was previously cut  \n",
    "Ctrl-t Transpose (i.e., switch) previous two characters  \n",
    "\n",
    "*Keystroke Action* (iPython)\n",
    "\n",
    "Ctrl-p (or the up arrow key) Access previous command in history  \n",
    "Ctrl-n (or the down arrow key) Access next command in history  \n",
    "Ctrl-r Reverse-search through command history  \n",
    "\n",
    "Miscellaneous Shortcuts (iPython)  \n",
    "\n",
    "Ctrl-l Clear terminal screen  \n",
    "Ctrl-c Interrupt current Python command  \n",
    "Ctrl-d Exit IPython session  "
   ]
  },
  {
   "cell_type": "code",
   "execution_count": null,
   "id": "0551bc7d",
   "metadata": {},
   "outputs": [],
   "source": [
    "# test the shortcuts with the following:"
   ]
  },
  {
   "cell_type": "code",
   "execution_count": null,
   "id": "d578d4a8",
   "metadata": {},
   "outputs": [],
   "source": [
    "L.append?"
   ]
  },
  {
   "cell_type": "markdown",
   "id": "073f91db",
   "metadata": {},
   "source": [
    "Test Ctrl-r in iPython: Copy with CTRL-C the incr() function \n",
    "above. Then in iPython: 1) enter the magic command %paste, 2) use CTRL-r and searches 'def' and 3) enter the code incr(3)."
   ]
  },
  {
   "cell_type": "markdown",
   "id": "7bced016",
   "metadata": {},
   "source": [
    "- **IPython Magic Commands**"
   ]
  },
  {
   "cell_type": "code",
   "execution_count": null,
   "id": "1cdcb430",
   "metadata": {},
   "outputs": [],
   "source": [
    "%run test_ipython.py"
   ]
  },
  {
   "cell_type": "code",
   "execution_count": null,
   "id": "8eedcdef",
   "metadata": {},
   "outputs": [],
   "source": [
    "incr(3)"
   ]
  },
  {
   "cell_type": "code",
   "execution_count": null,
   "id": "194aa309",
   "metadata": {},
   "outputs": [],
   "source": [
    "%timeit  L = [i ** 2 for i in range(1000)]"
   ]
  },
  {
   "cell_type": "code",
   "execution_count": null,
   "id": "a82cd1f7",
   "metadata": {},
   "outputs": [],
   "source": [
    "%%timeit\n",
    "L = []\n",
    "for i in range(1000):\n",
    "    L.append(i ** 2)\n"
   ]
  },
  {
   "cell_type": "code",
   "execution_count": null,
   "id": "6b260f7e",
   "metadata": {},
   "outputs": [],
   "source": [
    "%timeit?"
   ]
  },
  {
   "cell_type": "code",
   "execution_count": null,
   "id": "21971a61",
   "metadata": {},
   "outputs": [],
   "source": [
    "%magic"
   ]
  },
  {
   "cell_type": "code",
   "execution_count": null,
   "id": "6af8dbfe",
   "metadata": {},
   "outputs": [],
   "source": [
    "%lsmagic"
   ]
  },
  {
   "cell_type": "markdown",
   "id": "48c0bfbc",
   "metadata": {},
   "source": [
    "- **Input and Output History**"
   ]
  },
  {
   "cell_type": "code",
   "execution_count": null,
   "id": "40ec0be0",
   "metadata": {},
   "outputs": [],
   "source": [
    "import math"
   ]
  },
  {
   "cell_type": "code",
   "execution_count": null,
   "id": "bb8eeffa",
   "metadata": {},
   "outputs": [],
   "source": [
    "math.sqrt(4)"
   ]
  },
  {
   "cell_type": "code",
   "execution_count": null,
   "id": "53f9a6eb",
   "metadata": {},
   "outputs": [],
   "source": [
    "In"
   ]
  },
  {
   "cell_type": "code",
   "execution_count": null,
   "id": "08dfcb1c",
   "metadata": {},
   "outputs": [],
   "source": [
    "Out"
   ]
  },
  {
   "cell_type": "code",
   "execution_count": null,
   "id": "8fd34b02",
   "metadata": {},
   "outputs": [],
   "source": [
    "print(In[1])"
   ]
  },
  {
   "cell_type": "code",
   "execution_count": null,
   "id": "c4fdb497",
   "metadata": {},
   "outputs": [],
   "source": [
    "print(Out[2])"
   ]
  },
  {
   "cell_type": "code",
   "execution_count": null,
   "id": "601e8ed9",
   "metadata": {},
   "outputs": [],
   "source": [
    "print(Out[2] ** 2)"
   ]
  },
  {
   "cell_type": "markdown",
   "id": "3aa062a3",
   "metadata": {},
   "source": [
    "- **Underscore Shortcuts and Previous Outputs**"
   ]
  },
  {
   "cell_type": "markdown",
   "id": "fdacb8cb",
   "metadata": {},
   "source": [
    "Select menu Kernel -> Option Restart & Clear Output"
   ]
  },
  {
   "cell_type": "code",
   "execution_count": null,
   "id": "6a96f0f4",
   "metadata": {},
   "outputs": [],
   "source": [
    "L = []\n",
    "L"
   ]
  },
  {
   "cell_type": "code",
   "execution_count": null,
   "id": "cda682e3",
   "metadata": {},
   "outputs": [],
   "source": [
    "L = [1, 2]\n",
    "L"
   ]
  },
  {
   "cell_type": "code",
   "execution_count": null,
   "id": "19cc8eb8",
   "metadata": {},
   "outputs": [],
   "source": [
    "L = L + [2]\n",
    "L"
   ]
  },
  {
   "cell_type": "code",
   "execution_count": null,
   "id": "33890a34",
   "metadata": {},
   "outputs": [],
   "source": [
    "print(_)\n",
    "print(Out[3])"
   ]
  },
  {
   "cell_type": "code",
   "execution_count": null,
   "id": "eda1f4a9",
   "metadata": {},
   "outputs": [],
   "source": [
    "print(__)"
   ]
  },
  {
   "cell_type": "code",
   "execution_count": null,
   "id": "7b8449ea",
   "metadata": {},
   "outputs": [],
   "source": [
    "print(___)"
   ]
  },
  {
   "cell_type": "code",
   "execution_count": null,
   "id": "8b5c414b",
   "metadata": {},
   "outputs": [],
   "source": [
    "print(Out[2])"
   ]
  },
  {
   "cell_type": "code",
   "execution_count": null,
   "id": "1f1bb763",
   "metadata": {},
   "outputs": [],
   "source": [
    "print(_2)"
   ]
  },
  {
   "cell_type": "code",
   "execution_count": null,
   "id": "1d7419c2",
   "metadata": {},
   "outputs": [],
   "source": [
    "L = L + []"
   ]
  },
  {
   "cell_type": "code",
   "execution_count": null,
   "id": "371da31b",
   "metadata": {},
   "outputs": [],
   "source": [
    "8 in Out"
   ]
  },
  {
   "cell_type": "code",
   "execution_count": null,
   "id": "490687a9",
   "metadata": {},
   "outputs": [],
   "source": [
    "%history?"
   ]
  },
  {
   "cell_type": "code",
   "execution_count": null,
   "id": "3e2df16d",
   "metadata": {},
   "outputs": [],
   "source": [
    "%history -n 1-2"
   ]
  },
  {
   "cell_type": "markdown",
   "id": "bd21cc95",
   "metadata": {},
   "source": [
    "- **IPython and Shell Commands**"
   ]
  },
  {
   "cell_type": "code",
   "execution_count": null,
   "id": "7b345d52",
   "metadata": {},
   "outputs": [],
   "source": [
    "!ls"
   ]
  },
  {
   "cell_type": "code",
   "execution_count": null,
   "id": "5a91b362",
   "metadata": {},
   "outputs": [],
   "source": [
    "!pwd"
   ]
  },
  {
   "cell_type": "code",
   "execution_count": null,
   "id": "94279704",
   "metadata": {},
   "outputs": [],
   "source": [
    "files = !ls"
   ]
  },
  {
   "cell_type": "code",
   "execution_count": null,
   "id": "2da329d1",
   "metadata": {},
   "outputs": [],
   "source": [
    "type(files)"
   ]
  },
  {
   "cell_type": "code",
   "execution_count": null,
   "id": "61dee39a",
   "metadata": {},
   "outputs": [],
   "source": [
    "str = \"Hello world\"\n",
    "str"
   ]
  },
  {
   "cell_type": "code",
   "execution_count": null,
   "id": "d591064e",
   "metadata": {},
   "outputs": [],
   "source": [
    "!echo {str}"
   ]
  },
  {
   "cell_type": "markdown",
   "id": "c8451e0f",
   "metadata": {},
   "source": [
    "If you play with IPython’s shell commands for a while, you might notice that you cannot use !cd to navigate the filesystem"
   ]
  },
  {
   "cell_type": "code",
   "execution_count": null,
   "id": "9b765fb5",
   "metadata": {},
   "outputs": [],
   "source": [
    "!cd .."
   ]
  },
  {
   "cell_type": "code",
   "execution_count": null,
   "id": "d4e2f357",
   "metadata": {},
   "outputs": [],
   "source": [
    "!pwd"
   ]
  },
  {
   "cell_type": "markdown",
   "id": "0c73a884",
   "metadata": {},
   "source": [
    "*This does work...*"
   ]
  },
  {
   "cell_type": "code",
   "execution_count": null,
   "id": "719ee39c",
   "metadata": {},
   "outputs": [],
   "source": [
    "%cd .."
   ]
  },
  {
   "cell_type": "code",
   "execution_count": null,
   "id": "4db58689",
   "metadata": {},
   "outputs": [],
   "source": [
    "%pwd"
   ]
  },
  {
   "cell_type": "code",
   "execution_count": null,
   "id": "7cd06ed1",
   "metadata": {},
   "outputs": [],
   "source": [
    "cd ipython"
   ]
  },
  {
   "cell_type": "code",
   "execution_count": null,
   "id": "c366c57b",
   "metadata": {
    "scrolled": true
   },
   "outputs": [],
   "source": [
    "%automagic"
   ]
  },
  {
   "cell_type": "code",
   "execution_count": null,
   "id": "b94cac74",
   "metadata": {},
   "outputs": [],
   "source": [
    "%automagic"
   ]
  },
  {
   "cell_type": "markdown",
   "id": "1dc57b7d",
   "metadata": {},
   "source": [
    "Besides %cd, other available shell-like magic functions are %cat, %cp, %env, %ls, %man, %mkdir, %more, %mv, %pwd, %rm, and %rmdir, any of which can be used without the % sign if automagic is on. This makes it so that you can almost treat the IPython prompt as if it’s a normal shell.!"
   ]
  }
 ],
 "metadata": {
  "kernelspec": {
   "display_name": "Python 3 (ipykernel)",
   "language": "python",
   "name": "python3"
  },
  "language_info": {
   "codemirror_mode": {
    "name": "ipython",
    "version": 3
   },
   "file_extension": ".py",
   "mimetype": "text/x-python",
   "name": "python",
   "nbconvert_exporter": "python",
   "pygments_lexer": "ipython3",
   "version": "3.7.15"
  }
 },
 "nbformat": 4,
 "nbformat_minor": 5
}
