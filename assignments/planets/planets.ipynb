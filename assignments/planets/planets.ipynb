{
 "cells": [
  {
   "cell_type": "markdown",
   "metadata": {
    "id": "XnDCU1Zyyk7f"
   },
   "source": [
    "# Solar System planets image classification\n",
    "### Inteligencia Artirficial para los Sistemas de Control Autónomos\n",
    "### Máster de Ciencia y Tecnología desde el Espacio\n",
    "\n",
    "\n",
    "## Objectives\n",
    "\n",
    "- Introduce some basic Machine Learning concepts.\n",
    "- Work with a basic Machine Learning workflow.\n",
    "- Illustrate an application of classical Machine Learning to image classification.\n",
    "- Understand the importance of hyperparameter settings.\n",
    "\n",
    "## Introduction\n",
    "\n",
    "\n",
    "Remember that the workflow usually implemented in ML projects is as follows.\n",
    "\n",
    "1. Data adquisition\n",
    "2. Exploratory analysis\n",
    "3. Data preprocessing\n",
    "4. Model training\n",
    "5. Model validation\n",
    "\n",
    "In this assignment we will train several classifiers to distinguish the different planets in the Solar System in base of its photograph. TODO.\n",
    "\n",
    "This assignment uses a dataset created by Emirhan Bulut.\n",
    "\n",
    "## Preliminary steps\n",
    "\n",
    "The dataset has been taken from Kaggle, a pretty popular website among the Machine Learning community. Take some time to explore the [dataset](https://www.kaggle.com/robervalt/sunspots), but you will not need to download it because this notebook automatically downloads the dataset from [Internet](https://gist.githubusercontent.com/dfbarrero/466ad8dc4fc904bb2de1d69ef61319f1/raw/7feea731c24e2a8149731f27c6d66518e542a836/Sunspots.csv).\n",
    "\n",
    "## Import libraries\n"
   ]
  },
  {
   "cell_type": "code",
   "execution_count": 21,
   "metadata": {
    "id": "-nQDxdZtcGlI"
   },
   "outputs": [],
   "source": [
    "import numpy as np\n",
    "import pandas as pd\n",
    "import seaborn as sns\n",
    "\n",
    "import matplotlib.pyplot as plt\n",
    "\n",
    "from sklearn.metrics import mean_squared_error"
   ]
  },
  {
   "cell_type": "markdown",
   "metadata": {
    "id": "0hMwZMSgt9rE"
   },
   "source": [
    "## Define some utility functions\n",
    "\n",
    "Your do not need to understand this, thay are just utility functions to maintain a nicer code."
   ]
  },
  {
   "cell_type": "code",
   "execution_count": 22,
   "metadata": {
    "id": "2WtUh4fZt7F_"
   },
   "outputs": [],
   "source": [
    "def plot_loss(history):\n",
    "  plt.plot(history.history['loss'])\n",
    "  plt.plot(history.history['val_loss'])\n",
    "  plt.title('Model loss')\n",
    "  plt.ylabel('Loss')\n",
    "  plt.xlabel('Epoch')\n",
    "  plt.legend(['Train', 'Test'], loc='upper right')\n",
    "  plt.show()\n",
    "\n",
    "def plot_predict(observed, predicted):\n",
    "  plt.figure(figsize=(20, 10))\n",
    "  plt.plot(observed)\n",
    "  plt.plot(predicted, linestyle=\"dashed\")\n",
    "  #plt.title('Observation vr. prediction')\n",
    "  plt.ylabel('Sunspots')\n",
    "  plt.xlabel('Index')\n",
    "  plt.legend(['Observed', 'Predicted'], loc='upper right')\n",
    "  plt.show()\n",
    "\n",
    "def plot_histograms(observed, predicted):\n",
    "    \"\"\"\n",
    "    Plot two side-by-side histograms with the observed and predicted sunspots\n",
    "    \"\"\"\n",
    "    #plt.figure(figsize=(40, 5))\n",
    "    fig, (ax1, ax2) = plt.subplots(1, 2)\n",
    "    sns.histplot(predicted, ax=ax2);\n",
    "    ax2.title.set_text(\"Predictions\")\n",
    "    sns.histplot(observed, ax=ax1);\n",
    "    ax1.title.set_text(\"Observations\")\n",
    "\n",
    "def plot_train_test(train, test):\n",
    "    plt.figure(figsize=(20, 6));\n",
    "    sns.lineplot(data = train, color=\"blue\")\n",
    "\n",
    "    x = range(len(train), len(train) + len(test))\n",
    "    sns.lineplot(x=x, y=test, color=\"red\", linestyle=\"dotted\")\n",
    "    plt.ylabel(\"Observed sunspots\");\n",
    "\n",
    "def create_regressor_attributes(df, attribute, list_of_prev_t_instants) :\n",
    "    \"\"\"\n",
    "    Ensure that the index is of datetime type\n",
    "    Creates features with previous time instant values\n",
    "    \"\"\"\n",
    "        \n",
    "    list_of_prev_t_instants.sort()\n",
    "    start = list_of_prev_t_instants[-1] \n",
    "    end = len(df)\n",
    "    df['datetime'] = df.index\n",
    "    df.reset_index(drop=True)\n",
    "\n",
    "    df_copy = df[start:end]\n",
    "    df_copy.reset_index(inplace=True, drop=True)\n",
    "\n",
    "    for attribute in attribute :\n",
    "            foobar = pd.DataFrame()\n",
    "\n",
    "            for prev_t in list_of_prev_t_instants :\n",
    "                new_col = pd.DataFrame(df[attribute].iloc[(start - prev_t) : (end - prev_t)])\n",
    "                new_col.reset_index(drop=True, inplace=True)\n",
    "                new_col.rename(columns={attribute : '{}_(t-{})'.format(attribute, prev_t)}, inplace=True)\n",
    "                foobar = pd.concat([foobar, new_col], sort=False, axis=1)\n",
    "\n",
    "            df_copy = pd.concat([df_copy, foobar], sort=False, axis=1)\n",
    "            \n",
    "    df_copy.set_index(['datetime'], drop=True, inplace=True)\n",
    "    return df_copy\n",
    "\n",
    "def split_timeseries(dataset, ratio=0.8):\n",
    "    '''\n",
    "      dataset[:, 0] must contain the target\n",
    "    '''\n",
    "    split_time = int(ratio * len(dataset))\n",
    "\n",
    "    train = dataset[:split_time]\n",
    "    test = dataset[split_time:]\n",
    "\n",
    "    print(\"Number of instances: \" + str(len(dataset)))\n",
    "    print(\"Number of instances for train: \" + str(split_time))\n",
    "    print(\"Number of instances for validation: \" + str(len(dataset) - split_time))\n",
    "\n",
    "    plt.figure(figsize=(20, 6));\n",
    "    plt.plot(train['Sunspots']);\n",
    "    plt.plot(test['Sunspots'], linestyle=\"dotted\");\n",
    "    plt.xlabel(\"Year\");\n",
    "    plt.ylabel(\"Observed sunspots\");\n",
    "    plt.legend(['Train', 'Test'], loc='upper right')\n",
    "\n",
    "    X_train, y_train = train.iloc[:, 1:], train.iloc[:, 0]\n",
    "    X_test, y_test = test.iloc[:, 1:], test.iloc[:, 0]\n",
    "\n",
    "    return X_train, y_train, X_test, y_test"
   ]
  },
  {
   "cell_type": "markdown",
   "metadata": {
    "id": "GRt2AA4Z5wWY"
   },
   "source": [
    "## Load dataset\n",
    "\n",
    "Given that the dataset is a collection of images, first we need to download them in order to build our feature matrix. To that end we use a nice feature of notebook that allows to execute a system command. You do not need to know how the following command works, all you need is to know that it is going to download a zip file from Internet with the images."
   ]
  },
  {
   "cell_type": "code",
   "execution_count": 23,
   "metadata": {},
   "outputs": [
    {
     "name": "stdout",
     "output_type": "stream",
     "text": [
      "/bin/bash: /home/david/anaconda3/envs/ml37/lib/libtinfo.so.6: no version information available (required by /bin/bash)\n",
      "--2022-12-21 11:49:15--  https://github.com/emirhanai/Planets-and-Moons-Dataset-AI-in-Space/raw/main/Planets_Moons_Data.zip\n",
      "Resolving github.com (github.com)... 140.82.121.4\n",
      "Connecting to github.com (github.com)|140.82.121.4|:443... connected.\n",
      "HTTP request sent, awaiting response... 302 Found\n",
      "Location: https://raw.githubusercontent.com/emirhanai/Planets-and-Moons-Dataset-AI-in-Space/main/Planets_Moons_Data.zip [following]\n",
      "--2022-12-21 11:49:15--  https://raw.githubusercontent.com/emirhanai/Planets-and-Moons-Dataset-AI-in-Space/main/Planets_Moons_Data.zip\n",
      "Resolving raw.githubusercontent.com (raw.githubusercontent.com)... 185.199.109.133, 185.199.110.133, 185.199.111.133, ...\n",
      "Connecting to raw.githubusercontent.com (raw.githubusercontent.com)|185.199.109.133|:443... connected.\n",
      "HTTP request sent, awaiting response... 200 OK\n",
      "Length: 21015623 (20M) [application/zip]\n",
      "Saving to: ‘Planets_Moons_Data.zip.1’\n",
      "\n",
      "Planets_Moons_Data. 100%[===================>]  20,04M  38,1MB/s    in 0,5s    \n",
      "\n",
      "2022-12-21 11:49:16 (38,1 MB/s) - ‘Planets_Moons_Data.zip.1’ saved [21015623/21015623]\n",
      "\n"
     ]
    }
   ],
   "source": [
    "!wget https://github.com/emirhanai/Planets-and-Moons-Dataset-AI-in-Space/raw/main/Planets_Moons_Data.zip"
   ]
  },
  {
   "cell_type": "code",
   "execution_count": 24,
   "metadata": {},
   "outputs": [
    {
     "name": "stdout",
     "output_type": "stream",
     "text": [
      "/bin/bash: /home/david/anaconda3/envs/ml37/lib/libtinfo.so.6: no version information available (required by /bin/bash)\n",
      "Archive:  Planets_Moons_Data.zip\n",
      "replace Planets and Moons/Earth/Earth (1).jpg? [y]es, [n]o, [A]ll, [N]one, [r]ename: ^C\n"
     ]
    }
   ],
   "source": [
    "!unzip Planets_Moons_Data.zip"
   ]
  },
  {
   "cell_type": "markdown",
   "metadata": {},
   "source": [
    "Let's checkout if the dataset has been correctly downloaded."
   ]
  },
  {
   "cell_type": "code",
   "execution_count": 26,
   "metadata": {},
   "outputs": [
    {
     "name": "stdout",
     "output_type": "stream",
     "text": [
      "/bin/bash: /home/david/anaconda3/envs/ml37/lib/libtinfo.so.6: no version information available (required by /bin/bash)\r\n",
      "total 55080\r\n",
      "drwxrwxr-x 13 david david     4096 may  8  2022 'Planets and Moons'\r\n",
      "-rw-rw-r--  1 david david 11984276 dic 21 11:44  planets.csv\r\n",
      "-rw-rw-r--  1 david david  2375718 dic 21 11:48  planets.ipynb\r\n",
      "-rw-rw-r--  1 david david 21015623 dic 21 11:20  Planets_Moons_Data.zip\r\n",
      "-rw-rw-r--  1 david david 21015623 dic 21 11:49  Planets_Moons_Data.zip.1\r\n"
     ]
    }
   ],
   "source": [
    "!ls -l"
   ]
  },
  {
   "cell_type": "markdown",
   "metadata": {},
   "source": [
    "It would be better to visualize one of the images."
   ]
  },
  {
   "cell_type": "code",
   "execution_count": 27,
   "metadata": {},
   "outputs": [
    {
     "data": {
      "text/plain": [
       "<matplotlib.image.AxesImage at 0x7fcffc596190>"
      ]
     },
     "execution_count": 27,
     "metadata": {},
     "output_type": "execute_result"
    },
    {
     "data": {
      "image/png": "[encoded data removed]",
      "text/plain": [
       "<Figure size 640x480 with 1 Axes>"
      ]
     },
     "metadata": {},
     "output_type": "display_data"
    }
   ],
   "source": [
    "%matplotlib inline\n",
    "\n",
    "import os\n",
    "import pandas as pd\n",
    "import time\n",
    "from tqdm.notebook import tqdm\n",
    "from PIL import Image\n",
    "import numpy as np\n",
    "\n",
    "import matplotlib.pyplot as plt\n",
    "\n",
    "from PIL import ImageOps\n",
    "\n",
    "DATAPATH = \"Planets and Moons\"\n",
    "\n",
    "img = Image.open(os.path.join(DATAPATH, \"Pluto/Pluto (100).jpg\"))\n",
    "img.load()\n",
    "plt.imshow(img)"
   ]
  },
  {
   "cell_type": "code",
   "execution_count": 28,
   "metadata": {},
   "outputs": [
    {
     "data": {
      "text/plain": [
       "PIL.JpegImagePlugin.JpegImageFile"
      ]
     },
     "execution_count": 28,
     "metadata": {},
     "output_type": "execute_result"
    }
   ],
   "source": [
    "type(img)"
   ]
  },
  {
   "cell_type": "markdown",
   "metadata": {},
   "source": [
    "We can transform the image to a plain numpy array simply as."
   ]
  },
  {
   "cell_type": "code",
   "execution_count": 29,
   "metadata": {},
   "outputs": [
    {
     "data": {
      "text/plain": [
       "(144, 256, 3)"
      ]
     },
     "execution_count": 29,
     "metadata": {},
     "output_type": "execute_result"
    }
   ],
   "source": [
    "np.asarray(img, dtype=\"uint8\").shape"
   ]
  },
  {
   "cell_type": "markdown",
   "metadata": {},
   "source": [
    "## Build the dataset\n",
    "\n",
    "Given the collection of images, we need to extract the features to build the dataset. That is done in the following code, that you do not need to understand."
   ]
  },
  {
   "cell_type": "code",
   "execution_count": 30,
   "metadata": {},
   "outputs": [
    {
     "data": {
      "application/vnd.jupyter.widget-view+json": {
       "model_id": "ede5d34ce06947278f4941be2e1f58ad",
       "version_major": 2,
       "version_minor": 0
      },
      "text/plain": [
       "  0%|          | 0/11 [00:00<?, ?it/s]"
      ]
     },
     "metadata": {},
     "output_type": "display_data"
    },
    {
     "name": "stdout",
     "output_type": "stream",
     "text": [
      "Iterating: MakeMake folder\n"
     ]
    },
    {
     "data": {
      "application/vnd.jupyter.widget-view+json": {
       "model_id": "dc3365bd80da43fca0cd6f4739007650",
       "version_major": 2,
       "version_minor": 0
      },
      "text/plain": [
       "  0%|          | 0/149 [00:00<?, ?it/s]"
      ]
     },
     "metadata": {},
     "output_type": "display_data"
    },
    {
     "name": "stdout",
     "output_type": "stream",
     "text": [
      "Iterating: Jupiter folder\n"
     ]
    },
    {
     "data": {
      "application/vnd.jupyter.widget-view+json": {
       "model_id": "f39110159856487b936ea4b00c57e9ee",
       "version_major": 2,
       "version_minor": 0
      },
      "text/plain": [
       "  0%|          | 0/149 [00:00<?, ?it/s]"
      ]
     },
     "metadata": {},
     "output_type": "display_data"
    },
    {
     "name": "stdout",
     "output_type": "stream",
     "text": [
      "Iterating: Mars folder\n"
     ]
    },
    {
     "data": {
      "application/vnd.jupyter.widget-view+json": {
       "model_id": "635962776f64498b9fdb902790f2fe19",
       "version_major": 2,
       "version_minor": 0
      },
      "text/plain": [
       "  0%|          | 0/149 [00:00<?, ?it/s]"
      ]
     },
     "metadata": {},
     "output_type": "display_data"
    },
    {
     "name": "stdout",
     "output_type": "stream",
     "text": [
      "Iterating: Mercury folder\n"
     ]
    },
    {
     "data": {
      "application/vnd.jupyter.widget-view+json": {
       "model_id": "cc6d20edddf449f4a9cae830db8d3442",
       "version_major": 2,
       "version_minor": 0
      },
      "text/plain": [
       "  0%|          | 0/149 [00:00<?, ?it/s]"
      ]
     },
     "metadata": {},
     "output_type": "display_data"
    },
    {
     "name": "stdout",
     "output_type": "stream",
     "text": [
      "Iterating: Moon folder\n"
     ]
    },
    {
     "data": {
      "application/vnd.jupyter.widget-view+json": {
       "model_id": "b0dbf722db2e4e7fab8e0e1aeffb0847",
       "version_major": 2,
       "version_minor": 0
      },
      "text/plain": [
       "  0%|          | 0/148 [00:00<?, ?it/s]"
      ]
     },
     "metadata": {},
     "output_type": "display_data"
    },
    {
     "name": "stdout",
     "output_type": "stream",
     "text": [
      "Iterating: Uranus folder\n"
     ]
    },
    {
     "data": {
      "application/vnd.jupyter.widget-view+json": {
       "model_id": "292eb9f678f746c59c9a02aab4811d60",
       "version_major": 2,
       "version_minor": 0
      },
      "text/plain": [
       "  0%|          | 0/149 [00:00<?, ?it/s]"
      ]
     },
     "metadata": {},
     "output_type": "display_data"
    },
    {
     "name": "stdout",
     "output_type": "stream",
     "text": [
      "Iterating: Neptune folder\n"
     ]
    },
    {
     "data": {
      "application/vnd.jupyter.widget-view+json": {
       "model_id": "7dc61f13cd4a491495550c20adc4c008",
       "version_major": 2,
       "version_minor": 0
      },
      "text/plain": [
       "  0%|          | 0/149 [00:00<?, ?it/s]"
      ]
     },
     "metadata": {},
     "output_type": "display_data"
    },
    {
     "name": "stdout",
     "output_type": "stream",
     "text": [
      "Iterating: Pluto folder\n"
     ]
    },
    {
     "data": {
      "application/vnd.jupyter.widget-view+json": {
       "model_id": "7422cf179a9246798a2c7673443d96c7",
       "version_major": 2,
       "version_minor": 0
      },
      "text/plain": [
       "  0%|          | 0/149 [00:00<?, ?it/s]"
      ]
     },
     "metadata": {},
     "output_type": "display_data"
    },
    {
     "name": "stdout",
     "output_type": "stream",
     "text": [
      "Iterating: Earth folder\n"
     ]
    },
    {
     "data": {
      "application/vnd.jupyter.widget-view+json": {
       "model_id": "f7cb36e01f0f4a83bd9000bca51d8fd7",
       "version_major": 2,
       "version_minor": 0
      },
      "text/plain": [
       "  0%|          | 0/149 [00:00<?, ?it/s]"
      ]
     },
     "metadata": {},
     "output_type": "display_data"
    },
    {
     "name": "stdout",
     "output_type": "stream",
     "text": [
      "Iterating: Venus folder\n"
     ]
    },
    {
     "data": {
      "application/vnd.jupyter.widget-view+json": {
       "model_id": "38609c681d9845378c02a2c7253972a1",
       "version_major": 2,
       "version_minor": 0
      },
      "text/plain": [
       "  0%|          | 0/149 [00:00<?, ?it/s]"
      ]
     },
     "metadata": {},
     "output_type": "display_data"
    },
    {
     "name": "stdout",
     "output_type": "stream",
     "text": [
      "Iterating: Saturn folder\n"
     ]
    },
    {
     "data": {
      "application/vnd.jupyter.widget-view+json": {
       "model_id": "cd843881716a42418433a2f089f390ca",
       "version_major": 2,
       "version_minor": 0
      },
      "text/plain": [
       "  0%|          | 0/149 [00:00<?, ?it/s]"
      ]
     },
     "metadata": {},
     "output_type": "display_data"
    }
   ],
   "source": [
    "DATAPATH = \"Planets and Moons\"\n",
    "\n",
    "\n",
    "\n",
    "\n",
    "columnNames = list()\n",
    "columnNames.append('label')\n",
    "size = 28 * 28 * 3\n",
    "\n",
    "for i in range(size):\n",
    "    pixel = str(i)\n",
    "    columnNames.append('pixel' + pixel)\n",
    "\n",
    "# Create a Pandas dataframe for storing data\n",
    "df = pd.DataFrame(columns = columnNames)\n",
    "\n",
    "for dirs in tqdm(os.listdir(DATAPATH)):\n",
    "    print(\"Iterating: \" + dirs + \" folder\")\n",
    "\n",
    "    for file in tqdm(os.listdir(os.path.join(DATAPATH, dirs))):\n",
    "        #print(\"Doing \" + file)\n",
    "        img = Image.open(os.path.join(DATAPATH, dirs, file))\n",
    "        img.load()\n",
    "\n",
    "        border = (58, 2, 58, 2) # left, top, right, bottom\n",
    "        img = ImageOps.crop(img, border)\n",
    "        img = img.resize((28, 28))\n",
    "\n",
    "        # create a numpy array for image pixels\n",
    "        imgdata = np.asarray(img, dtype=\"uint8\")\n",
    "        #print(imgdata.shape)\n",
    "        imgdata = imgdata.reshape(1, -1)\n",
    "        row = pd.DataFrame(imgdata)\n",
    "        row.columns = columnNames[1:] # First entry is 'label', avoid it\n",
    "        row['label'] = dirs\n",
    "        \n",
    "        df = df.append(row)"
   ]
  },
  {
   "cell_type": "markdown",
   "metadata": {},
   "source": [
    "Dataset contains a dataframe with the images in a Machine Learning friendly format. The process of building the dataset may be time-consuming in case of large amount of data. For this reasing it is quite common to store it in disk."
   ]
  },
  {
   "cell_type": "code",
   "execution_count": 31,
   "metadata": {},
   "outputs": [],
   "source": [
    "df.to_csv(\"planets.csv\", index=False)"
   ]
  },
  {
   "cell_type": "markdown",
   "metadata": {},
   "source": [
    "This file has been created in the virtual machine, so you do not have direct access to it, but you can still download it with the following function."
   ]
  },
  {
   "cell_type": "code",
   "execution_count": 32,
   "metadata": {},
   "outputs": [
    {
     "data": {
      "text/html": [
       "<a href='planets.csv' target='_blank'>planets.csv</a><br>"
      ],
      "text/plain": [
       "/home/david/repositorios/docencia/dataCourse/assignments/planets/planets.csv"
      ]
     },
     "metadata": {},
     "output_type": "display_data"
    }
   ],
   "source": [
    "from IPython.display import FileLink\n",
    "\n",
    "display(FileLink(\"planets.csv\"))"
   ]
  },
  {
   "cell_type": "markdown",
   "metadata": {
    "id": "bef_j8Ga8RqX"
   },
   "source": [
    "## Exploratory analysis\n",
    "\n",
    "Always observe your data before doing any futher processing. As usual, we try to identify NaN values, number of instances, attributes and classes, outlayers, correlations and in general any information about our data that helps us to better understand it and hence train better models."
   ]
  },
  {
   "cell_type": "code",
   "execution_count": 65,
   "metadata": {},
   "outputs": [
    {
     "data": {
      "text/plain": [
       "MakeMake    149\n",
       "Jupiter     149\n",
       "Mars        149\n",
       "Mercury     149\n",
       "Uranus      149\n",
       "Neptune     149\n",
       "Pluto       149\n",
       "Earth       149\n",
       "Venus       149\n",
       "Saturn      149\n",
       "Moon        148\n",
       "Name: label, dtype: int64"
      ]
     },
     "execution_count": 65,
     "metadata": {},
     "output_type": "execute_result"
    }
   ],
   "source": [
    "## YOUR EDA HERE"
   ]
  },
  {
   "cell_type": "markdown",
   "metadata": {
    "id": "aWwS0M137N0A"
   },
   "source": [
    "## Preprocess data\n",
    "\n",
    "Our data has values between 0 and 255, which is not optimal for some of the algorithms we will try, so we normalize them. In this case the variance of our attributes is quite similar, if not identical, so normalization will not make a big difference, however, we will do it, but first, we will build the feature matrix and target vector as Scikit-Learn requires."
   ]
  },
  {
   "cell_type": "code",
   "execution_count": 63,
   "metadata": {
    "id": "n5HlcWSKeHkV"
   },
   "outputs": [
    {
     "data": {
      "text/html": [
       "<div>\n",
       "<style scoped>\n",
       "    .dataframe tbody tr th:only-of-type {\n",
       "        vertical-align: middle;\n",
       "    }\n",
       "\n",
       "    .dataframe tbody tr th {\n",
       "        vertical-align: top;\n",
       "    }\n",
       "\n",
       "    .dataframe thead th {\n",
       "        text-align: right;\n",
       "    }\n",
       "</style>\n",
       "<table border=\"1\" class=\"dataframe\">\n",
       "  <thead>\n",
       "    <tr style=\"text-align: right;\">\n",
       "      <th></th>\n",
       "      <th>pixel0</th>\n",
       "      <th>pixel1</th>\n",
       "      <th>pixel2</th>\n",
       "      <th>pixel3</th>\n",
       "      <th>pixel4</th>\n",
       "      <th>pixel5</th>\n",
       "      <th>pixel6</th>\n",
       "      <th>pixel7</th>\n",
       "      <th>pixel8</th>\n",
       "      <th>pixel9</th>\n",
       "      <th>...</th>\n",
       "      <th>pixel2342</th>\n",
       "      <th>pixel2343</th>\n",
       "      <th>pixel2344</th>\n",
       "      <th>pixel2345</th>\n",
       "      <th>pixel2346</th>\n",
       "      <th>pixel2347</th>\n",
       "      <th>pixel2348</th>\n",
       "      <th>pixel2349</th>\n",
       "      <th>pixel2350</th>\n",
       "      <th>pixel2351</th>\n",
       "    </tr>\n",
       "  </thead>\n",
       "  <tbody>\n",
       "    <tr>\n",
       "      <th>0</th>\n",
       "      <td>0</td>\n",
       "      <td>0</td>\n",
       "      <td>0</td>\n",
       "      <td>0</td>\n",
       "      <td>0</td>\n",
       "      <td>0</td>\n",
       "      <td>0</td>\n",
       "      <td>0</td>\n",
       "      <td>0</td>\n",
       "      <td>0</td>\n",
       "      <td>...</td>\n",
       "      <td>0</td>\n",
       "      <td>0</td>\n",
       "      <td>0</td>\n",
       "      <td>0</td>\n",
       "      <td>0</td>\n",
       "      <td>0</td>\n",
       "      <td>0</td>\n",
       "      <td>0</td>\n",
       "      <td>0</td>\n",
       "      <td>0</td>\n",
       "    </tr>\n",
       "    <tr>\n",
       "      <th>0</th>\n",
       "      <td>0</td>\n",
       "      <td>0</td>\n",
       "      <td>0</td>\n",
       "      <td>0</td>\n",
       "      <td>0</td>\n",
       "      <td>0</td>\n",
       "      <td>0</td>\n",
       "      <td>0</td>\n",
       "      <td>0</td>\n",
       "      <td>0</td>\n",
       "      <td>...</td>\n",
       "      <td>0</td>\n",
       "      <td>0</td>\n",
       "      <td>0</td>\n",
       "      <td>0</td>\n",
       "      <td>0</td>\n",
       "      <td>0</td>\n",
       "      <td>0</td>\n",
       "      <td>0</td>\n",
       "      <td>0</td>\n",
       "      <td>0</td>\n",
       "    </tr>\n",
       "    <tr>\n",
       "      <th>0</th>\n",
       "      <td>0</td>\n",
       "      <td>0</td>\n",
       "      <td>0</td>\n",
       "      <td>0</td>\n",
       "      <td>0</td>\n",
       "      <td>0</td>\n",
       "      <td>0</td>\n",
       "      <td>0</td>\n",
       "      <td>0</td>\n",
       "      <td>0</td>\n",
       "      <td>...</td>\n",
       "      <td>0</td>\n",
       "      <td>0</td>\n",
       "      <td>0</td>\n",
       "      <td>0</td>\n",
       "      <td>0</td>\n",
       "      <td>0</td>\n",
       "      <td>0</td>\n",
       "      <td>0</td>\n",
       "      <td>0</td>\n",
       "      <td>0</td>\n",
       "    </tr>\n",
       "    <tr>\n",
       "      <th>0</th>\n",
       "      <td>0</td>\n",
       "      <td>0</td>\n",
       "      <td>0</td>\n",
       "      <td>0</td>\n",
       "      <td>0</td>\n",
       "      <td>0</td>\n",
       "      <td>0</td>\n",
       "      <td>0</td>\n",
       "      <td>0</td>\n",
       "      <td>0</td>\n",
       "      <td>...</td>\n",
       "      <td>0</td>\n",
       "      <td>0</td>\n",
       "      <td>0</td>\n",
       "      <td>0</td>\n",
       "      <td>0</td>\n",
       "      <td>0</td>\n",
       "      <td>0</td>\n",
       "      <td>0</td>\n",
       "      <td>0</td>\n",
       "      <td>0</td>\n",
       "    </tr>\n",
       "    <tr>\n",
       "      <th>0</th>\n",
       "      <td>0</td>\n",
       "      <td>0</td>\n",
       "      <td>0</td>\n",
       "      <td>0</td>\n",
       "      <td>0</td>\n",
       "      <td>0</td>\n",
       "      <td>0</td>\n",
       "      <td>0</td>\n",
       "      <td>0</td>\n",
       "      <td>0</td>\n",
       "      <td>...</td>\n",
       "      <td>0</td>\n",
       "      <td>0</td>\n",
       "      <td>0</td>\n",
       "      <td>0</td>\n",
       "      <td>0</td>\n",
       "      <td>0</td>\n",
       "      <td>0</td>\n",
       "      <td>0</td>\n",
       "      <td>0</td>\n",
       "      <td>0</td>\n",
       "    </tr>\n",
       "  </tbody>\n",
       "</table>\n",
       "<p>5 rows × 2352 columns</p>\n",
       "</div>"
      ],
      "text/plain": [
       "  pixel0 pixel1 pixel2 pixel3 pixel4 pixel5 pixel6 pixel7 pixel8 pixel9  ...  \\\n",
       "0      0      0      0      0      0      0      0      0      0      0  ...   \n",
       "0      0      0      0      0      0      0      0      0      0      0  ...   \n",
       "0      0      0      0      0      0      0      0      0      0      0  ...   \n",
       "0      0      0      0      0      0      0      0      0      0      0  ...   \n",
       "0      0      0      0      0      0      0      0      0      0      0  ...   \n",
       "\n",
       "  pixel2342 pixel2343 pixel2344 pixel2345 pixel2346 pixel2347 pixel2348  \\\n",
       "0         0         0         0         0         0         0         0   \n",
       "0         0         0         0         0         0         0         0   \n",
       "0         0         0         0         0         0         0         0   \n",
       "0         0         0         0         0         0         0         0   \n",
       "0         0         0         0         0         0         0         0   \n",
       "\n",
       "  pixel2349 pixel2350 pixel2351  \n",
       "0         0         0         0  \n",
       "0         0         0         0  \n",
       "0         0         0         0  \n",
       "0         0         0         0  \n",
       "0         0         0         0  \n",
       "\n",
       "[5 rows x 2352 columns]"
      ]
     },
     "metadata": {},
     "output_type": "display_data"
    },
    {
     "data": {
      "text/plain": [
       "0    MakeMake\n",
       "0    MakeMake\n",
       "0    MakeMake\n",
       "0    MakeMake\n",
       "0    MakeMake\n",
       "Name: label, dtype: object"
      ]
     },
     "metadata": {},
     "output_type": "display_data"
    }
   ],
   "source": [
    "x = df.drop(\"label\", axis=1)\n",
    "y = df[\"label\"]\n",
    "\n",
    "display(x.head())\n",
    "display(y.head())"
   ]
  },
  {
   "cell_type": "markdown",
   "metadata": {
    "id": "pMv7AiXKEHos"
   },
   "source": [
    "Now we standarize our data."
   ]
  },
  {
   "cell_type": "code",
   "execution_count": 54,
   "metadata": {},
   "outputs": [
    {
     "data": {
      "text/plain": [
       "array([[-0.31633394, -0.31633394, -0.31633394, ..., -0.31633394,\n",
       "        -0.31633394, -0.31633394],\n",
       "       [-0.31633394, -0.31633394, -0.31633394, ..., -0.31633394,\n",
       "        -0.31633394, -0.31633394],\n",
       "       [-0.31633394, -0.31633394, -0.31633394, ..., -0.31633394,\n",
       "        -0.31633394, -0.31633394],\n",
       "       ...,\n",
       "       [ 3.16121632,  3.16121632,  3.16121632, ...,  3.16121632,\n",
       "         3.16121632,  3.16121632],\n",
       "       [ 3.16121632,  3.16121632,  3.16121632, ...,  3.16121632,\n",
       "         3.16121632,  3.16121632],\n",
       "       [ 3.16121632,  3.16121632,  3.16121632, ...,  3.16121632,\n",
       "         3.16121632,  3.16121632]])"
      ]
     },
     "execution_count": 54,
     "metadata": {},
     "output_type": "execute_result"
    }
   ],
   "source": [
    "from sklearn.preprocessing import StandardScaler\n",
    "\n",
    "scaler = StandardScaler().fit(x)\n",
    "X = scaler.transform(x)\n",
    "\n",
    "X"
   ]
  },
  {
   "cell_type": "markdown",
   "metadata": {},
   "source": [
    "Now we can split into train and test datasets."
   ]
  },
  {
   "cell_type": "code",
   "execution_count": 57,
   "metadata": {},
   "outputs": [
    {
     "name": "stdout",
     "output_type": "stream",
     "text": [
      "X shape: (1638, 2352)\n",
      "X_train shape: (1146, 2352)\n",
      "X_train shape: (492, 2352)\n"
     ]
    }
   ],
   "source": [
    "from sklearn.model_selection import train_test_split \n",
    "    \n",
    "X_train, X_test, y_train, y_test = train_test_split(X, y, test_size=0.3)\n",
    "\n",
    "print(f\"X shape: {X.shape}\")\n",
    "print(f\"X_train shape: {X_train.shape}\")\n",
    "print(f\"X_train shape: {X_test.shape}\")"
   ]
  },
  {
   "cell_type": "markdown",
   "metadata": {
    "id": "jJW168gMEtte"
   },
   "source": [
    "## Predictive modelling"
   ]
  },
  {
   "cell_type": "markdown",
   "metadata": {
    "id": "ppGPbusGPIUf"
   },
   "source": [
    "### Set up a baseline\n",
    "\n",
    "In order to assess correctly our model metrics, we first need something to compare with. Absolute metrics have little meaning without a context. To this end it is quite common to apply a dumb forecasting just to have an estimation of the magnitude of the metrics. In our case we will always predict the most frequent class."
   ]
  },
  {
   "cell_type": "code",
   "execution_count": 81,
   "metadata": {},
   "outputs": [],
   "source": [
    "from sklearn.dummy import DummyClassifier\n",
    "\n",
    "dummy_clf = DummyClassifier(strategy=\"most_frequent\")\n",
    "dummy_clf.fit(X, y)\n",
    "y_model = dummy_clf.predict(X_test)"
   ]
  },
  {
   "cell_type": "code",
   "execution_count": 82,
   "metadata": {},
   "outputs": [
    {
     "data": {
      "text/plain": [
       "0.09349593495934959"
      ]
     },
     "execution_count": 82,
     "metadata": {},
     "output_type": "execute_result"
    }
   ],
   "source": [
    "from sklearn.metrics import accuracy_score\n",
    "\n",
    "accuracy_score(y_test, y_model)"
   ]
  },
  {
   "cell_type": "code",
   "execution_count": 87,
   "metadata": {},
   "outputs": [
    {
     "data": {
      "text/plain": [
       "array(['Earth', 'Earth', 'Earth', 'Earth', 'Earth', 'Earth', 'Earth',\n",
       "       'Earth', 'Earth', 'Earth'], dtype='<U5')"
      ]
     },
     "execution_count": 87,
     "metadata": {},
     "output_type": "execute_result"
    }
   ],
   "source": [
    "y_model[:10]"
   ]
  },
  {
   "cell_type": "markdown",
   "metadata": {},
   "source": [
    "Now we are going to train several types of classifiers trying to improve our baseline accuracy. We will use accuracy as metric, given that it is a classification task and the classes are balanced."
   ]
  },
  {
   "cell_type": "markdown",
   "metadata": {},
   "source": [
    "#### K-nn classifier\n",
    "\n",
    "Model fit:"
   ]
  },
  {
   "cell_type": "code",
   "execution_count": 99,
   "metadata": {},
   "outputs": [],
   "source": [
    "from sklearn.neighbors import KNeighborsClassifier\n",
    "\n",
    "model = KNeighborsClassifier(n_neighbors=1)\n",
    "model.fit(X_train, y_train)                  \n",
    "y_model = model.predict(X_test)             "
   ]
  },
  {
   "cell_type": "markdown",
   "metadata": {},
   "source": [
    "Model evaluation:"
   ]
  },
  {
   "cell_type": "code",
   "execution_count": 100,
   "metadata": {},
   "outputs": [
    {
     "data": {
      "text/plain": [
       "0.9939024390243902"
      ]
     },
     "execution_count": 100,
     "metadata": {},
     "output_type": "execute_result"
    }
   ],
   "source": [
    "from sklearn.metrics import accuracy_score\n",
    "\n",
    "results = {}\n",
    "\n",
    "results['knn'] = accuracy_score(y_test, y_model)\n",
    "results['knn']"
   ]
  },
  {
   "cell_type": "markdown",
   "metadata": {},
   "source": [
    "#### Support Vector Machine (SVM) classifier"
   ]
  },
  {
   "cell_type": "code",
   "execution_count": 101,
   "metadata": {},
   "outputs": [],
   "source": [
    "from sklearn.svm import SVC\n",
    "\n",
    "model = SVC()\n",
    "\n",
    "model.fit(X_train, y_train)                   \n",
    "y_model = model.predict(X_test)              "
   ]
  },
  {
   "cell_type": "code",
   "execution_count": 102,
   "metadata": {},
   "outputs": [
    {
     "data": {
      "text/plain": [
       "0.9451219512195121"
      ]
     },
     "execution_count": 102,
     "metadata": {},
     "output_type": "execute_result"
    }
   ],
   "source": [
    "results['svm'] = accuracy_score(y_test, y_model)\n",
    "results['svm']"
   ]
  },
  {
   "cell_type": "markdown",
   "metadata": {},
   "source": [
    "#### Classification tree"
   ]
  },
  {
   "cell_type": "code",
   "execution_count": 103,
   "metadata": {},
   "outputs": [],
   "source": [
    "from sklearn.tree import DecisionTreeClassifier\n",
    "\n",
    "model = DecisionTreeClassifier()\n",
    "model.fit(X_train, y_train)          \n",
    "y_model = model.predict(X_test)              "
   ]
  },
  {
   "cell_type": "code",
   "execution_count": 104,
   "metadata": {},
   "outputs": [],
   "source": [
    "results['tree'] = accuracy_score(y_test, y_model)"
   ]
  },
  {
   "cell_type": "markdown",
   "metadata": {},
   "source": [
    "Finally, we compare the accuracy of our models:"
   ]
  },
  {
   "cell_type": "code",
   "execution_count": 105,
   "metadata": {},
   "outputs": [
    {
     "data": {
      "text/plain": [
       "{'knn': 0.9939024390243902,\n",
       " 'svm': 0.9451219512195121,\n",
       " 'tree': 0.9817073170731707}"
      ]
     },
     "execution_count": 105,
     "metadata": {},
     "output_type": "execute_result"
    }
   ],
   "source": [
    "results"
   ]
  },
  {
   "cell_type": "markdown",
   "metadata": {
    "id": "fqtXuKrLm81r"
   },
   "source": [
    "# Exercises\n",
    "\n",
    "### Initial steps\n",
    "\n",
    "1. Understand the workflow implemented in this notebook. You do not need to understand the details of the code but of course it is better if you can understand that. \n",
    "\n",
    "2. Complete this notebook filling in the EDA section.\n",
    "\n",
    "### Cross-validation\n",
    "\n",
    "3. The validation done above, depending on the size of the dataset and its properties, may not be very reliable. Evaluate the three previous classifiers with 10-folders cross validation and fill the following table. \n",
    "    * Please, observe that when using CV you do not need to split train and test, so you should use the whole dataset.\n",
    "    * Think about to what extend you are free to select any number of folds in cross validation.\n",
    "\n",
    "| Model | Accuracy | Accuracy (10-CV) |\n",
    "| ---   | --- | --- | \n",
    "| Baseline   |     |    | \n",
    "| KNN   | | |\n",
    "| SVM   | | |\n",
    "| Tree  | | |"
   ]
  },
  {
   "cell_type": "markdown",
   "metadata": {},
   "source": [
    "KNN"
   ]
  },
  {
   "cell_type": "code",
   "execution_count": 124,
   "metadata": {},
   "outputs": [
    {
     "name": "stdout",
     "output_type": "stream",
     "text": [
      "0.005667578175761211\n",
      "0.009125000692388655\n"
     ]
    }
   ],
   "source": [
    "from sklearn.model_selection import cross_val_score\n",
    "\n",
    "model = DecisionTreeClassifier()\n",
    "scores = cross_val_score(model, X, y, cv=5)\n",
    "print(scores.std())\n",
    "scores = cross_val_score(model, X, y, cv=10)\n",
    "print(scores.std())"
   ]
  },
  {
   "cell_type": "markdown",
   "metadata": {},
   "source": [
    "SVM"
   ]
  },
  {
   "cell_type": "code",
   "execution_count": null,
   "metadata": {},
   "outputs": [],
   "source": []
  },
  {
   "cell_type": "markdown",
   "metadata": {},
   "source": [
    "Tree"
   ]
  },
  {
   "cell_type": "code",
   "execution_count": null,
   "metadata": {},
   "outputs": [],
   "source": []
  },
  {
   "cell_type": "markdown",
   "metadata": {},
   "source": [
    "4. Now compare the standard deviation of the accuracy estimated with cross validation for different number of folds (5 and 10). Fill out the following table and try to identify any pattern.\n",
    "\n",
    "| Model | $\\sigma$ (cv=10) | $\\sigma$ (cv=5) |\n",
    "| ---   | --- | --- |\n",
    "| KNN   |     |     |\n",
    "| SVM   | | | \n",
    "| Tree  | | |"
   ]
  },
  {
   "cell_type": "markdown",
   "metadata": {},
   "source": [
    "KNN"
   ]
  },
  {
   "cell_type": "code",
   "execution_count": null,
   "metadata": {},
   "outputs": [],
   "source": []
  },
  {
   "cell_type": "markdown",
   "metadata": {},
   "source": [
    "SVM"
   ]
  },
  {
   "cell_type": "code",
   "execution_count": null,
   "metadata": {},
   "outputs": [],
   "source": []
  },
  {
   "cell_type": "markdown",
   "metadata": {},
   "source": [
    "Tree"
   ]
  },
  {
   "cell_type": "code",
   "execution_count": null,
   "metadata": {},
   "outputs": [],
   "source": []
  },
  {
   "cell_type": "markdown",
   "metadata": {},
   "source": [
    "### Alternative evaluation methods\n",
    "\n",
    "5. Display the confusion matrix for the tree models trained with the train dataset. Do they fail/success in the same way?"
   ]
  },
  {
   "cell_type": "markdown",
   "metadata": {},
   "source": [
    "KNN"
   ]
  },
  {
   "cell_type": "code",
   "execution_count": null,
   "metadata": {},
   "outputs": [],
   "source": []
  },
  {
   "cell_type": "markdown",
   "metadata": {},
   "source": [
    "SVM"
   ]
  },
  {
   "cell_type": "code",
   "execution_count": null,
   "metadata": {},
   "outputs": [],
   "source": []
  },
  {
   "cell_type": "markdown",
   "metadata": {},
   "source": [
    "Tree"
   ]
  },
  {
   "cell_type": "code",
   "execution_count": null,
   "metadata": {},
   "outputs": [],
   "source": []
  },
  {
   "cell_type": "markdown",
   "metadata": {},
   "source": [
    "6. Scikit-Learn comes with a handy function named classification_report, that provides a range of evaluation metrics for classifiers. Search information about this function and provide a report the SVM classifier."
   ]
  },
  {
   "cell_type": "code",
   "execution_count": null,
   "metadata": {},
   "outputs": [],
   "source": []
  },
  {
   "cell_type": "markdown",
   "metadata": {},
   "source": [
    "### Hyper parameter optimization\n",
    "\n",
    "7. Train a KNN model for different values of *n_neighbors* and plot its accuracy."
   ]
  },
  {
   "cell_type": "code",
   "execution_count": null,
   "metadata": {},
   "outputs": [],
   "source": []
  },
  {
   "cell_type": "markdown",
   "metadata": {},
   "source": [
    "8.Train a SVM classifier for different values of *C* and plot its accuracy. Search in Internet which values of C are reasonable."
   ]
  },
  {
   "cell_type": "code",
   "execution_count": null,
   "metadata": {},
   "outputs": [],
   "source": []
  },
  {
   "cell_type": "markdown",
   "metadata": {},
   "source": [
    "9. Train a classification tree for diferent values of *max_depth*. This hyperparameters determines the maximun depth that is allowed to the learned tree."
   ]
  },
  {
   "cell_type": "code",
   "execution_count": null,
   "metadata": {},
   "outputs": [],
   "source": []
  },
  {
   "cell_type": "markdown",
   "metadata": {},
   "source": [
    "### Predictions on new data\n",
    "\n",
    "We train models because we want to use them with data that does not belong to our dataset. The following code trains a model, evaluate its performance and finally applies it to a new image taken from Internet."
   ]
  },
  {
   "cell_type": "code",
   "execution_count": 136,
   "metadata": {},
   "outputs": [
    {
     "name": "stdout",
     "output_type": "stream",
     "text": [
      "5-CV accuracy estimation: 0.997555381517118\n"
     ]
    }
   ],
   "source": [
    "from sklearn.neighbors import KNeighborsClassifier\n",
    "\n",
    "model = KNeighborsClassifier(n_neighbors=1)\n",
    "\n",
    "print(f\"5-CV accuracy estimation: {cross_val_score(model, X, y, cv=5).mean()}\")"
   ]
  },
  {
   "cell_type": "markdown",
   "metadata": {},
   "source": [
    "This model is going into production, so we train with the whole dataset for best performance."
   ]
  },
  {
   "cell_type": "code",
   "execution_count": 137,
   "metadata": {},
   "outputs": [
    {
     "data": {
      "text/plain": [
       "KNeighborsClassifier(n_neighbors=1)"
      ]
     },
     "execution_count": 137,
     "metadata": {},
     "output_type": "execute_result"
    }
   ],
   "source": [
    "model.fit(X, y)"
   ]
  },
  {
   "cell_type": "markdown",
   "metadata": {},
   "source": [
    "That's nice, we finally have our model ready for fun. Now it is time to download an image and preprocess it to make our model happy."
   ]
  },
  {
   "cell_type": "code",
   "execution_count": null,
   "metadata": {},
   "outputs": [],
   "source": []
  }
 ],
 "metadata": {
  "colab": {
   "collapsed_sections": [],
   "name": "sunspots-IASCA.ipynb",
   "provenance": [
    {
     "file_id": "1_-BuB8v7kXAR2-unxHnbNXpKjThzJVIw",
     "timestamp": 1646479831390
    },
    {
     "file_id": "1XJq-yQe0OL5oRmFaOrFwWq0eH5O6RKGr",
     "timestamp": 1645354688615
    }
   ]
  },
  "kernelspec": {
   "display_name": "Python 3 (ipykernel)",
   "language": "python",
   "name": "python3"
  },
  "language_info": {
   "codemirror_mode": {
    "name": "ipython",
    "version": 3
   },
   "file_extension": ".py",
   "mimetype": "text/x-python",
   "name": "python",
   "nbconvert_exporter": "python",
   "pygments_lexer": "ipython3",
   "version": "3.7.15"
  }
 },
 "nbformat": 4,
 "nbformat_minor": 1
}
