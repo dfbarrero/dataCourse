{
 "cells": [
  {
   "cell_type": "markdown",
   "id": "3ff00e8a",
   "metadata": {},
   "source": [
    "# Stellar objects identification with Machine Learning\n",
    "\n",
    "### Inteligencia Artificial para los Sistemas de Control Autónomos\n",
    "### Máster de Ciencia y Tecnología desde el Espacio\n",
    "\n",
    "\n",
    "## Objectives\n",
    "\n",
    "- Deal with an open Machine Learning problem.\n",
    "- Classification of tabular unbalanced data.\n",
    "- Deal with an unbalanced dataset.\n",
    "- Hyperparameter optimization with grid and random search.\n",
    "- Handle outlaiers.\n",
    "\n",
    "## Introduction\n",
    "\n",
    "Sloan Digital Sky Survey o SDSS.\n",
    "\n",
    "https://en.wikipedia.org/wiki/Sloan_Digital_Sky_Survey\n",
    "\n",
    "https://www.kaggle.com/datasets/fedesoriano/stellar-classification-dataset-sdss17\n",
    "\n",
    "\n",
    "*    obj_ID = Object Identifier, the unique value that identifies the object in the image catalog used by the CAS\n",
    "*    alpha = Right Ascension angle (at J2000 epoch)\n",
    "*    delta = Declination angle (at J2000 epoch)\n",
    "*    u = Ultraviolet filter in the photometric system\n",
    "*    g = Green filter in the photometric system\n",
    "*    r = Red filter in the photometric system\n",
    "*    i = Near Infrared filter in the photometric system\n",
    "*    z = Infrared filter in the photometric system\n",
    "*    run_ID = Run Number used to identify the specific scan\n",
    "*    rereun_ID = Rerun Number to specify how the image was processed\n",
    "*    cam_col = Camera column to identify the scanline within the run\n",
    "*    field_ID = Field number to identify each field\n",
    "*    spec_obj_ID = Unique ID used for optical spectroscopic objects (this means that 2 different observations with the same spec_obj_ID must share the output class)\n",
    "*    class = object class (galaxy, star or quasar object)\n",
    "*    redshift = redshift value based on the increase in wavelength\n",
    "*    plate = plate ID, identifies each plate in SDSS\n",
    "*    MJD = Modified Julian Date, used to indicate when a given piece of SDSS data was taken\n",
    "*    fiber_ID = fiber ID that identifies the fiber that pointed the light at the focal plane in each observation\n",
    "\n",
    "## Background\n",
    "\n",
    "## Unbalanced classes\n",
    "There are several actions that can be taken to address an unbalanced dataset, the best approach will depend on the problem and the data itself. \n",
    "\n",
    "The usual precision and recall metrics used in classification, when there is unbalanced classes, lose reliability. Imagine, for example, a dataset with 99% of instances of a class A, and only 1% of class B. If we apply a dummy classifier that classifies everything as A, we will obtain an accuracy of 99%, which suggests excellent performance, but clearly this classifier will not be working correctly. For this reason accuracy and recall are rarely used with unbalanced datasets.\n",
    "\n",
    "One of the most commonly used metrics with unbalanced data is F1, which is defined as the harmonic mean of the precision and recall:\n",
    "\n",
    "$F1 = 2 \\times \\frac{\\text{precision} \\times \\text{recall}}{\\text{precision} + \\text{recall}}$.\n",
    "\n",
    "F1 is defined in a range from zero to one, with one corresponding to a perfect classification. The definition is made for binary classification problems, so it needs to be adapted to multi-label problems like the one we are dealing with. Scikit applies F1 to each class separately, obtaining several F1 values, which it then groups by means of an average. There are several methods to do this grouping, we will use the 'weighted' method, which weights the average by number of instances of each class, and is suitable for unbalanced datasets.\n",
    "\n",
    "The most straightforward way to balance the classes is to undersample the majority class or oversample the minority class. A variation of the latter approach is to add noise to the oversampling in a controlled way, so as to bring more variety to the dataset, avoiding overlearning. In the context of Deep Learning this technique is known as \"data augmentation\".\n",
    "\n",
    "<img align=\"center\" src=\"smote.webp\" width=\"300\">\n",
    "\n",
    "More advanced techniques involve synthetically generating new instances of the minority class. For example, [SMOTE](https://machinelearningmastery.com/smote-oversampling-for-imbalanced-classification/) is a technique of some sophistication and quite popular that creates new instances of the minority class by sampling the straight line joining a minority class instance with some close neighbor. "
   ]
  },
  {
   "cell_type": "markdown",
   "id": "ba661b72",
   "metadata": {},
   "source": [
    "SMOTE is not supported by Sckit-Learn, we need another library."
   ]
  },
  {
   "cell_type": "code",
   "execution_count": null,
   "id": "d6bad953",
   "metadata": {},
   "outputs": [],
   "source": [
    "!pip install imblearn"
   ]
  },
  {
   "cell_type": "code",
   "execution_count": null,
   "id": "45f47770",
   "metadata": {},
   "outputs": [],
   "source": [
    "import numpy as np\n",
    "import pandas as pd\n",
    "\n",
    "from imblearn.over_sampling import SMOTE\n",
    "\n",
    "\n",
    "df = pd.read_csv(\"https://github.com/dfbarrero/dataCourse/raw/master/assignments/stellar/stellar.zip\")\n",
    "print(df['class'].value_counts())\n",
    "\n",
    "x = df.drop(['class'], axis = 1)\n",
    "y = df.loc[:,'class'].values"
   ]
  },
  {
   "cell_type": "code",
   "execution_count": null,
   "id": "03a0421f",
   "metadata": {},
   "outputs": [],
   "source": [
    "smote= SMOTE()\n",
    "x_smote, y_smote = smote.fit_resample(x, y)\n",
    "\n",
    "print(np.unique(y_smote, return_counts=True))\n",
    "\n",
    "#del x_smote, y_smote\n",
    "#del df, x, y"
   ]
  },
  {
   "cell_type": "markdown",
   "id": "aafc9b0b",
   "metadata": {},
   "source": [
    "## Hyperparameter optimization\n",
    "\n",
    "The performance of the models depends strongly on the hyperparameters, which is more clear when dealing with real-world problems. Since performance can be quantified, we can view this problem as a pure optimization problem, for which there are a multitude of techniques in the field of AI. \n",
    "\n",
    "<img align=\"center\" src=\"random.png\" width=\"300\"><img align=\"center\" src=\"grid.png\" width=\"300\">\n",
    "\n",
    "One of the most widely used hyperparameter optimization techniques in Machine Learning is provided by the Scikit-Learn function *GridSearchCV()*, which is provided with the hyperparameters to be optimized and a range of values to be searched. The function creates a combination of hyperparameters and trains the model with each combination, returning the combination that performs best. It can apply cross-validation if required to."
   ]
  },
  {
   "cell_type": "code",
   "execution_count": null,
   "id": "23f59478",
   "metadata": {},
   "outputs": [],
   "source": [
    "from sklearn import svm, datasets\n",
    "from sklearn.model_selection import GridSearchCV\n",
    "\n",
    "iris = datasets.load_iris()\n",
    "\n",
    "parameters = {'kernel':('linear', 'rbf'), \n",
    "              'C':[1, 10]}\n",
    "\n",
    "svc = svm.SVC()\n",
    "clf = GridSearchCV(svc, parameters)\n",
    "clf.fit(iris.data, iris.target)\n",
    "clf.best_params_"
   ]
  },
  {
   "cell_type": "markdown",
   "id": "e9ce31a7",
   "metadata": {},
   "source": [
    "Please observe that *GridSearchCV()* returns an object that contains the result of the search, but behaves like a model.\n",
    "\n",
    "Since the search space increases exponentially with the number of hyperparameters to be optimized, grid search becomes computationally intractable with some ease. A randomized search may be useful in these cases (*see RandomizedSearchCV()*), or other much more advanced methods such as bayesian optimization or even Genetic Algorithms."
   ]
  },
  {
   "cell_type": "markdown",
   "id": "f6532d9e",
   "metadata": {},
   "source": [
    "## Imports"
   ]
  },
  {
   "cell_type": "code",
   "execution_count": 2,
   "id": "ad500d2f",
   "metadata": {},
   "outputs": [],
   "source": [
    "%matplotlib inline\n",
    "\n",
    "import numpy as np\n",
    "import pandas as pd\n",
    "import matplotlib.pyplot as plt\n",
    "\n",
    "import seaborn as sns"
   ]
  },
  {
   "cell_type": "markdown",
   "id": "baf84f8c",
   "metadata": {},
   "source": [
    "## Data adquisition"
   ]
  },
  {
   "cell_type": "code",
   "execution_count": 24,
   "id": "a8238e63",
   "metadata": {},
   "outputs": [],
   "source": [
    "df = pd.read_csv(\"https://github.com/dfbarrero/dataCourse/raw/master/assignments/stellar/stellar.zip\")\n",
    "df = df.drop(['obj_ID','run_ID','rerun_ID','cam_col','field_ID','fiber_ID', 'spec_obj_ID', 'alpha', 'delta', 'plate', 'MJD'], axis = 1)"
   ]
  },
  {
   "cell_type": "code",
   "execution_count": 25,
   "id": "6d938799",
   "metadata": {},
   "outputs": [
    {
     "data": {
      "text/html": [
       "<div>\n",
       "<style scoped>\n",
       "    .dataframe tbody tr th:only-of-type {\n",
       "        vertical-align: middle;\n",
       "    }\n",
       "\n",
       "    .dataframe tbody tr th {\n",
       "        vertical-align: top;\n",
       "    }\n",
       "\n",
       "    .dataframe thead th {\n",
       "        text-align: right;\n",
       "    }\n",
       "</style>\n",
       "<table border=\"1\" class=\"dataframe\">\n",
       "  <thead>\n",
       "    <tr style=\"text-align: right;\">\n",
       "      <th></th>\n",
       "      <th>u</th>\n",
       "      <th>g</th>\n",
       "      <th>r</th>\n",
       "      <th>i</th>\n",
       "      <th>z</th>\n",
       "      <th>class</th>\n",
       "      <th>redshift</th>\n",
       "    </tr>\n",
       "  </thead>\n",
       "  <tbody>\n",
       "    <tr>\n",
       "      <th>0</th>\n",
       "      <td>23.87882</td>\n",
       "      <td>22.27530</td>\n",
       "      <td>20.39501</td>\n",
       "      <td>19.16573</td>\n",
       "      <td>18.79371</td>\n",
       "      <td>GALAXY</td>\n",
       "      <td>0.634794</td>\n",
       "    </tr>\n",
       "    <tr>\n",
       "      <th>1</th>\n",
       "      <td>24.77759</td>\n",
       "      <td>22.83188</td>\n",
       "      <td>22.58444</td>\n",
       "      <td>21.16812</td>\n",
       "      <td>21.61427</td>\n",
       "      <td>GALAXY</td>\n",
       "      <td>0.779136</td>\n",
       "    </tr>\n",
       "    <tr>\n",
       "      <th>2</th>\n",
       "      <td>25.26307</td>\n",
       "      <td>22.66389</td>\n",
       "      <td>20.60976</td>\n",
       "      <td>19.34857</td>\n",
       "      <td>18.94827</td>\n",
       "      <td>GALAXY</td>\n",
       "      <td>0.644195</td>\n",
       "    </tr>\n",
       "    <tr>\n",
       "      <th>3</th>\n",
       "      <td>22.13682</td>\n",
       "      <td>23.77656</td>\n",
       "      <td>21.61162</td>\n",
       "      <td>20.50454</td>\n",
       "      <td>19.25010</td>\n",
       "      <td>GALAXY</td>\n",
       "      <td>0.932346</td>\n",
       "    </tr>\n",
       "    <tr>\n",
       "      <th>4</th>\n",
       "      <td>19.43718</td>\n",
       "      <td>17.58028</td>\n",
       "      <td>16.49747</td>\n",
       "      <td>15.97711</td>\n",
       "      <td>15.54461</td>\n",
       "      <td>GALAXY</td>\n",
       "      <td>0.116123</td>\n",
       "    </tr>\n",
       "  </tbody>\n",
       "</table>\n",
       "</div>"
      ],
      "text/plain": [
       "          u         g         r         i         z   class  redshift\n",
       "0  23.87882  22.27530  20.39501  19.16573  18.79371  GALAXY  0.634794\n",
       "1  24.77759  22.83188  22.58444  21.16812  21.61427  GALAXY  0.779136\n",
       "2  25.26307  22.66389  20.60976  19.34857  18.94827  GALAXY  0.644195\n",
       "3  22.13682  23.77656  21.61162  20.50454  19.25010  GALAXY  0.932346\n",
       "4  19.43718  17.58028  16.49747  15.97711  15.54461  GALAXY  0.116123"
      ]
     },
     "execution_count": 25,
     "metadata": {},
     "output_type": "execute_result"
    }
   ],
   "source": [
    "df.head()"
   ]
  },
  {
   "cell_type": "code",
   "execution_count": 26,
   "id": "9fa07807",
   "metadata": {},
   "outputs": [
    {
     "data": {
      "text/plain": [
       "(100000, 7)"
      ]
     },
     "execution_count": 26,
     "metadata": {},
     "output_type": "execute_result"
    }
   ],
   "source": [
    "df.shape"
   ]
  },
  {
   "cell_type": "code",
   "execution_count": 27,
   "id": "a6c518e7",
   "metadata": {},
   "outputs": [
    {
     "data": {
      "text/plain": [
       "u           0\n",
       "g           0\n",
       "r           0\n",
       "i           0\n",
       "z           0\n",
       "class       0\n",
       "redshift    0\n",
       "dtype: int64"
      ]
     },
     "execution_count": 27,
     "metadata": {},
     "output_type": "execute_result"
    }
   ],
   "source": [
    "df.isna().sum()"
   ]
  },
  {
   "cell_type": "code",
   "execution_count": 28,
   "id": "ed5bdb98",
   "metadata": {},
   "outputs": [
    {
     "data": {
      "text/html": [
       "<div>\n",
       "<style scoped>\n",
       "    .dataframe tbody tr th:only-of-type {\n",
       "        vertical-align: middle;\n",
       "    }\n",
       "\n",
       "    .dataframe tbody tr th {\n",
       "        vertical-align: top;\n",
       "    }\n",
       "\n",
       "    .dataframe thead th {\n",
       "        text-align: right;\n",
       "    }\n",
       "</style>\n",
       "<table border=\"1\" class=\"dataframe\">\n",
       "  <thead>\n",
       "    <tr style=\"text-align: right;\">\n",
       "      <th></th>\n",
       "      <th>count</th>\n",
       "      <th>mean</th>\n",
       "      <th>std</th>\n",
       "      <th>min</th>\n",
       "      <th>25%</th>\n",
       "      <th>50%</th>\n",
       "      <th>75%</th>\n",
       "      <th>max</th>\n",
       "    </tr>\n",
       "  </thead>\n",
       "  <tbody>\n",
       "    <tr>\n",
       "      <th>u</th>\n",
       "      <td>100000.0</td>\n",
       "      <td>21.980468</td>\n",
       "      <td>31.769291</td>\n",
       "      <td>-9999.000000</td>\n",
       "      <td>20.352353</td>\n",
       "      <td>22.179135</td>\n",
       "      <td>23.687440</td>\n",
       "      <td>32.781390</td>\n",
       "    </tr>\n",
       "    <tr>\n",
       "      <th>g</th>\n",
       "      <td>100000.0</td>\n",
       "      <td>20.531387</td>\n",
       "      <td>31.750292</td>\n",
       "      <td>-9999.000000</td>\n",
       "      <td>18.965230</td>\n",
       "      <td>21.099835</td>\n",
       "      <td>22.123767</td>\n",
       "      <td>31.602240</td>\n",
       "    </tr>\n",
       "    <tr>\n",
       "      <th>r</th>\n",
       "      <td>100000.0</td>\n",
       "      <td>19.645762</td>\n",
       "      <td>1.854760</td>\n",
       "      <td>9.822070</td>\n",
       "      <td>18.135828</td>\n",
       "      <td>20.125290</td>\n",
       "      <td>21.044785</td>\n",
       "      <td>29.571860</td>\n",
       "    </tr>\n",
       "    <tr>\n",
       "      <th>i</th>\n",
       "      <td>100000.0</td>\n",
       "      <td>19.084854</td>\n",
       "      <td>1.757895</td>\n",
       "      <td>9.469903</td>\n",
       "      <td>17.732285</td>\n",
       "      <td>19.405145</td>\n",
       "      <td>20.396495</td>\n",
       "      <td>32.141470</td>\n",
       "    </tr>\n",
       "    <tr>\n",
       "      <th>z</th>\n",
       "      <td>100000.0</td>\n",
       "      <td>18.668810</td>\n",
       "      <td>31.728152</td>\n",
       "      <td>-9999.000000</td>\n",
       "      <td>17.460677</td>\n",
       "      <td>19.004595</td>\n",
       "      <td>19.921120</td>\n",
       "      <td>29.383740</td>\n",
       "    </tr>\n",
       "    <tr>\n",
       "      <th>redshift</th>\n",
       "      <td>100000.0</td>\n",
       "      <td>0.576661</td>\n",
       "      <td>0.730707</td>\n",
       "      <td>-0.009971</td>\n",
       "      <td>0.054517</td>\n",
       "      <td>0.424173</td>\n",
       "      <td>0.704154</td>\n",
       "      <td>7.011245</td>\n",
       "    </tr>\n",
       "  </tbody>\n",
       "</table>\n",
       "</div>"
      ],
      "text/plain": [
       "             count       mean        std          min        25%        50%  \\\n",
       "u         100000.0  21.980468  31.769291 -9999.000000  20.352353  22.179135   \n",
       "g         100000.0  20.531387  31.750292 -9999.000000  18.965230  21.099835   \n",
       "r         100000.0  19.645762   1.854760     9.822070  18.135828  20.125290   \n",
       "i         100000.0  19.084854   1.757895     9.469903  17.732285  19.405145   \n",
       "z         100000.0  18.668810  31.728152 -9999.000000  17.460677  19.004595   \n",
       "redshift  100000.0   0.576661   0.730707    -0.009971   0.054517   0.424173   \n",
       "\n",
       "                75%        max  \n",
       "u         23.687440  32.781390  \n",
       "g         22.123767  31.602240  \n",
       "r         21.044785  29.571860  \n",
       "i         20.396495  32.141470  \n",
       "z         19.921120  29.383740  \n",
       "redshift   0.704154   7.011245  "
      ]
     },
     "execution_count": 28,
     "metadata": {},
     "output_type": "execute_result"
    }
   ],
   "source": [
    "df.describe().T"
   ]
  },
  {
   "cell_type": "code",
   "execution_count": 29,
   "id": "6997560d",
   "metadata": {},
   "outputs": [
    {
     "data": {
      "text/plain": [
       "array([[<AxesSubplot:title={'center':'u'}>,\n",
       "        <AxesSubplot:title={'center':'g'}>],\n",
       "       [<AxesSubplot:title={'center':'r'}>,\n",
       "        <AxesSubplot:title={'center':'i'}>],\n",
       "       [<AxesSubplot:title={'center':'z'}>,\n",
       "        <AxesSubplot:title={'center':'redshift'}>]], dtype=object)"
      ]
     },
     "execution_count": 29,
     "metadata": {},
     "output_type": "execute_result"
    },
    {
     "data": {
      "image/png": "[encoded data removed]",
      "text/plain": [
       "<Figure size 640x480 with 6 Axes>"
      ]
     },
     "metadata": {},
     "output_type": "display_data"
    }
   ],
   "source": [
    "df.hist()"
   ]
  },
  {
   "cell_type": "code",
   "execution_count": 30,
   "id": "dd5f6279",
   "metadata": {},
   "outputs": [
    {
     "data": {
      "text/plain": [
       "array([[<AxesSubplot:title={'center':'u'}>,\n",
       "        <AxesSubplot:title={'center':'g'}>],\n",
       "       [<AxesSubplot:title={'center':'r'}>,\n",
       "        <AxesSubplot:title={'center':'i'}>],\n",
       "       [<AxesSubplot:title={'center':'z'}>,\n",
       "        <AxesSubplot:title={'center':'redshift'}>]], dtype=object)"
      ]
     },
     "execution_count": 30,
     "metadata": {},
     "output_type": "execute_result"
    },
    {
     "data": {
      "image/png": "[encoded data removed]",
      "text/plain": [
       "<Figure size 640x480 with 6 Axes>"
      ]
     },
     "metadata": {},
     "output_type": "display_data"
    }
   ],
   "source": [
    "df = df[df['u'] > -9000]\n",
    "df = df[df['redshift'] > -9000]\n",
    "df.hist()"
   ]
  },
  {
   "cell_type": "code",
   "execution_count": 31,
   "id": "157abf1b",
   "metadata": {},
   "outputs": [
    {
     "data": {
      "text/plain": [
       "(99999, 7)"
      ]
     },
     "execution_count": 31,
     "metadata": {},
     "output_type": "execute_result"
    }
   ],
   "source": [
    "df.shape"
   ]
  },
  {
   "cell_type": "code",
   "execution_count": 32,
   "id": "8cb286f9",
   "metadata": {},
   "outputs": [
    {
     "data": {
      "text/plain": [
       "GALAXY    59445\n",
       "STAR      21593\n",
       "QSO       18961\n",
       "Name: class, dtype: int64"
      ]
     },
     "execution_count": 32,
     "metadata": {},
     "output_type": "execute_result"
    }
   ],
   "source": [
    "df['class'].value_counts()"
   ]
  },
  {
   "cell_type": "code",
   "execution_count": 33,
   "id": "fb4caa16",
   "metadata": {},
   "outputs": [],
   "source": [
    "#sns.pairplot(df, hue=\"class\")"
   ]
  },
  {
   "cell_type": "code",
   "execution_count": 34,
   "id": "0288f49f",
   "metadata": {},
   "outputs": [
    {
     "name": "stdout",
     "output_type": "stream",
     "text": [
      "(array(['GALAXY', 'QSO', 'STAR'], dtype=object), array([59445, 59445, 59445]))\n"
     ]
    }
   ],
   "source": [
    "from sklearn.preprocessing import StandardScaler\n",
    "from imblearn.over_sampling import SMOTE\n",
    "\n",
    "x = df.drop(['class'], axis = 1)\n",
    "y = df.loc[:,'class'].values\n",
    "\n",
    "smote= SMOTE()\n",
    "x_smote, y_smote = smote.fit_resample(x, y)\n",
    "\n",
    "print(np.unique(y_smote, return_counts=True))\n",
    "\n",
    "scaler = StandardScaler()\n",
    "scaler.fit(x_smote)\n",
    "x = scaler.transform(x)"
   ]
  },
  {
   "cell_type": "code",
   "execution_count": 35,
   "id": "22d379f3",
   "metadata": {},
   "outputs": [],
   "source": [
    "from sklearn.model_selection import train_test_split\n",
    "\n",
    "x_train, x_test, y_train, y_test = train_test_split(x_smote, y_smote, test_size = 0.33, random_state = 42)"
   ]
  },
  {
   "cell_type": "code",
   "execution_count": 36,
   "id": "03b89400",
   "metadata": {},
   "outputs": [
    {
     "name": "stdout",
     "output_type": "stream",
     "text": [
      "Accuracy : 0.332\n"
     ]
    }
   ],
   "source": [
    "from sklearn.dummy import DummyClassifier\n",
    "\n",
    "dummy_clf = DummyClassifier(strategy=\"most_frequent\")\n",
    "dummy_clf.fit(x_train, y_train)\n",
    "y_model = dummy_clf.predict(x_test)\n",
    "score = dummy_clf.score(x_test, y_test)\n",
    "dummy_score_ = np.mean(score)\n",
    "\n",
    "print('Accuracy : %.3f' % (dummy_score_))"
   ]
  },
  {
   "cell_type": "code",
   "execution_count": 37,
   "id": "8bade84e",
   "metadata": {},
   "outputs": [
    {
     "name": "stderr",
     "output_type": "stream",
     "text": [
      "/home/david/anaconda3/envs/ml37/lib/python3.7/site-packages/sklearn/metrics/_classification.py:1318: UndefinedMetricWarning: Precision and F-score are ill-defined and being set to 0.0 in labels with no predicted samples. Use `zero_division` parameter to control this behavior.\n",
      "  _warn_prf(average, modifier, msg_start, len(result))\n"
     ]
    },
    {
     "name": "stdout",
     "output_type": "stream",
     "text": [
      "              precision    recall  f1-score   support\n",
      "\n",
      "      GALAXY       0.00      0.00      0.00     19642\n",
      "         QSO       0.33      1.00      0.50     19535\n",
      "        STAR       0.00      0.00      0.00     19674\n",
      "\n",
      "    accuracy                           0.33     58851\n",
      "   macro avg       0.11      0.33      0.17     58851\n",
      "weighted avg       0.11      0.33      0.17     58851\n",
      "\n"
     ]
    },
    {
     "name": "stderr",
     "output_type": "stream",
     "text": [
      "/home/david/anaconda3/envs/ml37/lib/python3.7/site-packages/sklearn/metrics/_classification.py:1318: UndefinedMetricWarning: Precision and F-score are ill-defined and being set to 0.0 in labels with no predicted samples. Use `zero_division` parameter to control this behavior.\n",
      "  _warn_prf(average, modifier, msg_start, len(result))\n",
      "/home/david/anaconda3/envs/ml37/lib/python3.7/site-packages/sklearn/metrics/_classification.py:1318: UndefinedMetricWarning: Precision and F-score are ill-defined and being set to 0.0 in labels with no predicted samples. Use `zero_division` parameter to control this behavior.\n",
      "  _warn_prf(average, modifier, msg_start, len(result))\n"
     ]
    }
   ],
   "source": [
    "from sklearn.metrics import classification_report\n",
    "\n",
    "print(classification_report(y_test, y_model))"
   ]
  },
  {
   "cell_type": "code",
   "execution_count": 38,
   "id": "2534cff9",
   "metadata": {},
   "outputs": [
    {
     "name": "stdout",
     "output_type": "stream",
     "text": [
      "Accuracy : 0.938\n"
     ]
    }
   ],
   "source": [
    "from sklearn.svm import SVC\n",
    "\n",
    "svm_clf = SVC()\n",
    "svm_clf.fit(x_train, y_train)\n",
    "y_model = svm_clf.predict(x_test)\n",
    "score = svm_clf.score(x_test, y_test)\n",
    "svm_score_ = np.mean(score)\n",
    "\n",
    "print('Accuracy : %.3f' % (svm_score_))"
   ]
  },
  {
   "cell_type": "code",
   "execution_count": 40,
   "id": "9322439e",
   "metadata": {},
   "outputs": [
    {
     "name": "stdout",
     "output_type": "stream",
     "text": [
      "              precision    recall  f1-score   support\n",
      "\n",
      "      GALAXY       0.92      0.90      0.91     19642\n",
      "         QSO       0.98      0.93      0.95     19535\n",
      "        STAR       0.92      0.99      0.96     19674\n",
      "\n",
      "    accuracy                           0.94     58851\n",
      "   macro avg       0.94      0.94      0.94     58851\n",
      "weighted avg       0.94      0.94      0.94     58851\n",
      "\n"
     ]
    }
   ],
   "source": [
    "from sklearn.metrics import classification_report\n",
    "\n",
    "print(classification_report(y_test, y_model))"
   ]
  },
  {
   "cell_type": "code",
   "execution_count": 39,
   "id": "d8a3574c",
   "metadata": {},
   "outputs": [
    {
     "name": "stdout",
     "output_type": "stream",
     "text": [
      "Accuracy : 0.938\n"
     ]
    }
   ],
   "source": [
    "svm_clf = SVC(kernel='rbf', C=1, random_state=0)\n",
    "svm_clf.fit(x_train, y_train)\n",
    "y_model = svm_clf.predict(x_test)\n",
    "score = svm_clf.score(x_test, y_test)\n",
    "svm_score_ = np.mean(score)\n",
    "\n",
    "print('Accuracy : %.3f' % (svm_score_))"
   ]
  },
  {
   "cell_type": "code",
   "execution_count": 41,
   "id": "0763efa5",
   "metadata": {},
   "outputs": [
    {
     "name": "stdout",
     "output_type": "stream",
     "text": [
      "              precision    recall  f1-score   support\n",
      "\n",
      "      GALAXY       0.92      0.90      0.91     19642\n",
      "         QSO       0.98      0.93      0.95     19535\n",
      "        STAR       0.92      0.99      0.96     19674\n",
      "\n",
      "    accuracy                           0.94     58851\n",
      "   macro avg       0.94      0.94      0.94     58851\n",
      "weighted avg       0.94      0.94      0.94     58851\n",
      "\n"
     ]
    }
   ],
   "source": [
    "from sklearn.metrics import classification_report\n",
    "\n",
    "print(classification_report(y_test, y_model))"
   ]
  },
  {
   "cell_type": "code",
   "execution_count": 42,
   "id": "5f0f99a8",
   "metadata": {},
   "outputs": [
    {
     "name": "stdout",
     "output_type": "stream",
     "text": [
      "Accuracy : 0.982\n"
     ]
    }
   ],
   "source": [
    "from sklearn.ensemble import RandomForestClassifier\n",
    "\n",
    "clf = RandomForestClassifier()\n",
    "clf.fit(x_train, y_train)\n",
    "y_model = clf.predict(x_test)\n",
    "score = clf.score(x_test, y_test)\n",
    "clf_score_ = np.mean(score)\n",
    "\n",
    "print('Accuracy : %.3f' % (clf_score_))"
   ]
  },
  {
   "cell_type": "code",
   "execution_count": 43,
   "id": "b5021bc3",
   "metadata": {},
   "outputs": [
    {
     "name": "stdout",
     "output_type": "stream",
     "text": [
      "              precision    recall  f1-score   support\n",
      "\n",
      "      GALAXY       0.97      0.98      0.97     19642\n",
      "         QSO       0.98      0.97      0.97     19535\n",
      "        STAR       1.00      1.00      1.00     19674\n",
      "\n",
      "    accuracy                           0.98     58851\n",
      "   macro avg       0.98      0.98      0.98     58851\n",
      "weighted avg       0.98      0.98      0.98     58851\n",
      "\n"
     ]
    }
   ],
   "source": [
    "from sklearn.metrics import classification_report\n",
    "\n",
    "print(classification_report(y_test, y_model))"
   ]
  },
  {
   "cell_type": "code",
   "execution_count": null,
   "id": "3de94f6d",
   "metadata": {},
   "outputs": [],
   "source": [
    "from sklearn.model_selection import GridSearchCV\n",
    "\n",
    "parameters = {'kernel':('linear', 'rbf'), \n",
    "              'C':[1, 10]}\n",
    "\n",
    "svc = SVC()\n",
    "clf = GridSearchCV(svc, parameters, cv=10, verbose=1, n_jobs=-1)\n",
    "clf.fit(x_train, y_train)\n",
    "\n",
    "\n",
    "y_model = clf.predict(x_test)\n",
    "score = clf.score(x_test, y_test)\n",
    "clf_score_ = np.mean(score)\n",
    "\n",
    "print('Accuracy : %.3f' % (clf_score_))\n",
    "\n",
    "\n",
    "clf.best_params_"
   ]
  },
  {
   "cell_type": "code",
   "execution_count": null,
   "id": "55572598",
   "metadata": {},
   "outputs": [],
   "source": []
  }
 ],
 "metadata": {
  "kernelspec": {
   "display_name": "Python 3 (ipykernel)",
   "language": "python",
   "name": "python3"
  },
  "language_info": {
   "codemirror_mode": {
    "name": "ipython",
    "version": 3
   },
   "file_extension": ".py",
   "mimetype": "text/x-python",
   "name": "python",
   "nbconvert_exporter": "python",
   "pygments_lexer": "ipython3",
   "version": "3.7.15"
  }
 },
 "nbformat": 4,
 "nbformat_minor": 5
}
