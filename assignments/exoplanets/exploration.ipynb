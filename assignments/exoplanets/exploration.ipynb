{
 "cells": [
  {
   "cell_type": "code",
   "execution_count": 1,
   "metadata": {},
   "outputs": [],
   "source": [
    "import numpy as np\n",
    "import pandas as pd\n",
    "import matplotlib.pyplot as plt\n",
    "import seaborn as sns\n",
    "\n",
    "data = pd.read_csv(\"planets.csv\", skiprows=34)"
   ]
  },
  {
   "cell_type": "code",
   "execution_count": 77,
   "metadata": {},
   "outputs": [
    {
     "data": {
      "text/html": [
       "<div>\n",
       "<style scoped>\n",
       "    .dataframe tbody tr th:only-of-type {\n",
       "        vertical-align: middle;\n",
       "    }\n",
       "\n",
       "    .dataframe tbody tr th {\n",
       "        vertical-align: top;\n",
       "    }\n",
       "\n",
       "    .dataframe thead th {\n",
       "        text-align: right;\n",
       "    }\n",
       "</style>\n",
       "<table border=\"1\" class=\"dataframe\">\n",
       "  <thead>\n",
       "    <tr style=\"text-align: right;\">\n",
       "      <th></th>\n",
       "      <th>loc_rowid</th>\n",
       "      <th>pl_pnum</th>\n",
       "      <th>pl_orbper</th>\n",
       "      <th>pl_orbsmax</th>\n",
       "      <th>pl_orbeccen</th>\n",
       "      <th>pl_orbincl</th>\n",
       "      <th>pl_bmassj</th>\n",
       "      <th>pl_radj</th>\n",
       "      <th>pl_dens</th>\n",
       "      <th>pl_ttvflag</th>\n",
       "      <th>...</th>\n",
       "      <th>pl_k2flag</th>\n",
       "      <th>pl_nnotes</th>\n",
       "      <th>ra</th>\n",
       "      <th>dec</th>\n",
       "      <th>st_dist</th>\n",
       "      <th>st_optmag</th>\n",
       "      <th>gaia_gmag</th>\n",
       "      <th>st_teff</th>\n",
       "      <th>st_mass</th>\n",
       "      <th>st_rad</th>\n",
       "    </tr>\n",
       "  </thead>\n",
       "  <tbody>\n",
       "    <tr>\n",
       "      <th>count</th>\n",
       "      <td>238.000000</td>\n",
       "      <td>238.000000</td>\n",
       "      <td>238.000000</td>\n",
       "      <td>238.000000</td>\n",
       "      <td>238.000000</td>\n",
       "      <td>238.000000</td>\n",
       "      <td>238.000000</td>\n",
       "      <td>238.000000</td>\n",
       "      <td>238.000000</td>\n",
       "      <td>238.000000</td>\n",
       "      <td>...</td>\n",
       "      <td>238.000000</td>\n",
       "      <td>238.000000</td>\n",
       "      <td>238.000000</td>\n",
       "      <td>238.000000</td>\n",
       "      <td>238.000000</td>\n",
       "      <td>238.000000</td>\n",
       "      <td>238.000000</td>\n",
       "      <td>238.000000</td>\n",
       "      <td>238.000000</td>\n",
       "      <td>238.000000</td>\n",
       "    </tr>\n",
       "    <tr>\n",
       "      <th>mean</th>\n",
       "      <td>1870.579832</td>\n",
       "      <td>1.596639</td>\n",
       "      <td>18.953797</td>\n",
       "      <td>0.097517</td>\n",
       "      <td>0.096867</td>\n",
       "      <td>87.148029</td>\n",
       "      <td>1.360791</td>\n",
       "      <td>1.030727</td>\n",
       "      <td>1.851812</td>\n",
       "      <td>0.147059</td>\n",
       "      <td>...</td>\n",
       "      <td>0.105042</td>\n",
       "      <td>0.336134</td>\n",
       "      <td>217.868385</td>\n",
       "      <td>8.923423</td>\n",
       "      <td>527.628950</td>\n",
       "      <td>13.018134</td>\n",
       "      <td>12.797328</td>\n",
       "      <td>5573.731092</td>\n",
       "      <td>1.037941</td>\n",
       "      <td>1.181975</td>\n",
       "    </tr>\n",
       "    <tr>\n",
       "      <th>std</th>\n",
       "      <td>1474.296585</td>\n",
       "      <td>1.474505</td>\n",
       "      <td>77.061609</td>\n",
       "      <td>0.183751</td>\n",
       "      <td>0.149159</td>\n",
       "      <td>2.404734</td>\n",
       "      <td>2.633603</td>\n",
       "      <td>0.462131</td>\n",
       "      <td>2.957572</td>\n",
       "      <td>0.354911</td>\n",
       "      <td>...</td>\n",
       "      <td>0.307254</td>\n",
       "      <td>0.555408</td>\n",
       "      <td>105.821989</td>\n",
       "      <td>34.635561</td>\n",
       "      <td>451.712066</td>\n",
       "      <td>1.908852</td>\n",
       "      <td>1.750120</td>\n",
       "      <td>835.893637</td>\n",
       "      <td>0.288883</td>\n",
       "      <td>0.490919</td>\n",
       "    </tr>\n",
       "    <tr>\n",
       "      <th>min</th>\n",
       "      <td>65.000000</td>\n",
       "      <td>1.000000</td>\n",
       "      <td>0.788839</td>\n",
       "      <td>0.011110</td>\n",
       "      <td>0.000000</td>\n",
       "      <td>78.300000</td>\n",
       "      <td>0.000910</td>\n",
       "      <td>0.063000</td>\n",
       "      <td>0.052000</td>\n",
       "      <td>0.000000</td>\n",
       "      <td>...</td>\n",
       "      <td>0.000000</td>\n",
       "      <td>0.000000</td>\n",
       "      <td>0.362142</td>\n",
       "      <td>-70.152832</td>\n",
       "      <td>6.550000</td>\n",
       "      <td>5.570000</td>\n",
       "      <td>5.208000</td>\n",
       "      <td>2559.000000</td>\n",
       "      <td>0.080000</td>\n",
       "      <td>0.120000</td>\n",
       "    </tr>\n",
       "    <tr>\n",
       "      <th>25%</th>\n",
       "      <td>251.250000</td>\n",
       "      <td>1.000000</td>\n",
       "      <td>2.746324</td>\n",
       "      <td>0.037143</td>\n",
       "      <td>0.000000</td>\n",
       "      <td>85.805000</td>\n",
       "      <td>0.220000</td>\n",
       "      <td>0.788750</td>\n",
       "      <td>0.392250</td>\n",
       "      <td>0.000000</td>\n",
       "      <td>...</td>\n",
       "      <td>0.000000</td>\n",
       "      <td>0.000000</td>\n",
       "      <td>122.062196</td>\n",
       "      <td>-21.429422</td>\n",
       "      <td>235.515000</td>\n",
       "      <td>12.035750</td>\n",
       "      <td>11.888000</td>\n",
       "      <td>5345.250000</td>\n",
       "      <td>0.920000</td>\n",
       "      <td>0.900000</td>\n",
       "    </tr>\n",
       "    <tr>\n",
       "      <th>50%</th>\n",
       "      <td>1416.500000</td>\n",
       "      <td>1.000000</td>\n",
       "      <td>3.642068</td>\n",
       "      <td>0.046950</td>\n",
       "      <td>0.032150</td>\n",
       "      <td>87.610000</td>\n",
       "      <td>0.683000</td>\n",
       "      <td>1.121000</td>\n",
       "      <td>0.817000</td>\n",
       "      <td>0.000000</td>\n",
       "      <td>...</td>\n",
       "      <td>0.000000</td>\n",
       "      <td>0.000000</td>\n",
       "      <td>280.224865</td>\n",
       "      <td>7.511709</td>\n",
       "      <td>435.000000</td>\n",
       "      <td>12.920000</td>\n",
       "      <td>12.805500</td>\n",
       "      <td>5667.000000</td>\n",
       "      <td>1.035000</td>\n",
       "      <td>1.090000</td>\n",
       "    </tr>\n",
       "    <tr>\n",
       "      <th>75%</th>\n",
       "      <td>3609.750000</td>\n",
       "      <td>1.000000</td>\n",
       "      <td>7.566370</td>\n",
       "      <td>0.069375</td>\n",
       "      <td>0.123000</td>\n",
       "      <td>89.057500</td>\n",
       "      <td>1.348750</td>\n",
       "      <td>1.318000</td>\n",
       "      <td>1.875000</td>\n",
       "      <td>0.000000</td>\n",
       "      <td>...</td>\n",
       "      <td>0.000000</td>\n",
       "      <td>1.000000</td>\n",
       "      <td>297.115123</td>\n",
       "      <td>41.909138</td>\n",
       "      <td>671.550000</td>\n",
       "      <td>14.024250</td>\n",
       "      <td>13.791500</td>\n",
       "      <td>6025.000000</td>\n",
       "      <td>1.190000</td>\n",
       "      <td>1.437500</td>\n",
       "    </tr>\n",
       "    <tr>\n",
       "      <th>max</th>\n",
       "      <td>3790.000000</td>\n",
       "      <td>7.000000</td>\n",
       "      <td>1047.835600</td>\n",
       "      <td>2.026000</td>\n",
       "      <td>0.836000</td>\n",
       "      <td>90.760000</td>\n",
       "      <td>27.230000</td>\n",
       "      <td>2.085000</td>\n",
       "      <td>24.700000</td>\n",
       "      <td>1.000000</td>\n",
       "      <td>...</td>\n",
       "      <td>1.000000</td>\n",
       "      <td>3.000000</td>\n",
       "      <td>359.348991</td>\n",
       "      <td>73.827682</td>\n",
       "      <td>3200.000000</td>\n",
       "      <td>18.800000</td>\n",
       "      <td>16.555000</td>\n",
       "      <td>10170.000000</td>\n",
       "      <td>2.520000</td>\n",
       "      <td>4.060000</td>\n",
       "    </tr>\n",
       "  </tbody>\n",
       "</table>\n",
       "<p>8 rows × 21 columns</p>\n",
       "</div>"
      ],
      "text/plain": [
       "         loc_rowid     pl_pnum    pl_orbper  pl_orbsmax  pl_orbeccen  \\\n",
       "count   238.000000  238.000000   238.000000  238.000000   238.000000   \n",
       "mean   1870.579832    1.596639    18.953797    0.097517     0.096867   \n",
       "std    1474.296585    1.474505    77.061609    0.183751     0.149159   \n",
       "min      65.000000    1.000000     0.788839    0.011110     0.000000   \n",
       "25%     251.250000    1.000000     2.746324    0.037143     0.000000   \n",
       "50%    1416.500000    1.000000     3.642068    0.046950     0.032150   \n",
       "75%    3609.750000    1.000000     7.566370    0.069375     0.123000   \n",
       "max    3790.000000    7.000000  1047.835600    2.026000     0.836000   \n",
       "\n",
       "       pl_orbincl   pl_bmassj     pl_radj     pl_dens  pl_ttvflag     ...      \\\n",
       "count  238.000000  238.000000  238.000000  238.000000  238.000000     ...       \n",
       "mean    87.148029    1.360791    1.030727    1.851812    0.147059     ...       \n",
       "std      2.404734    2.633603    0.462131    2.957572    0.354911     ...       \n",
       "min     78.300000    0.000910    0.063000    0.052000    0.000000     ...       \n",
       "25%     85.805000    0.220000    0.788750    0.392250    0.000000     ...       \n",
       "50%     87.610000    0.683000    1.121000    0.817000    0.000000     ...       \n",
       "75%     89.057500    1.348750    1.318000    1.875000    0.000000     ...       \n",
       "max     90.760000   27.230000    2.085000   24.700000    1.000000     ...       \n",
       "\n",
       "        pl_k2flag   pl_nnotes          ra         dec      st_dist  \\\n",
       "count  238.000000  238.000000  238.000000  238.000000   238.000000   \n",
       "mean     0.105042    0.336134  217.868385    8.923423   527.628950   \n",
       "std      0.307254    0.555408  105.821989   34.635561   451.712066   \n",
       "min      0.000000    0.000000    0.362142  -70.152832     6.550000   \n",
       "25%      0.000000    0.000000  122.062196  -21.429422   235.515000   \n",
       "50%      0.000000    0.000000  280.224865    7.511709   435.000000   \n",
       "75%      0.000000    1.000000  297.115123   41.909138   671.550000   \n",
       "max      1.000000    3.000000  359.348991   73.827682  3200.000000   \n",
       "\n",
       "        st_optmag   gaia_gmag       st_teff     st_mass      st_rad  \n",
       "count  238.000000  238.000000    238.000000  238.000000  238.000000  \n",
       "mean    13.018134   12.797328   5573.731092    1.037941    1.181975  \n",
       "std      1.908852    1.750120    835.893637    0.288883    0.490919  \n",
       "min      5.570000    5.208000   2559.000000    0.080000    0.120000  \n",
       "25%     12.035750   11.888000   5345.250000    0.920000    0.900000  \n",
       "50%     12.920000   12.805500   5667.000000    1.035000    1.090000  \n",
       "75%     14.024250   13.791500   6025.000000    1.190000    1.437500  \n",
       "max     18.800000   16.555000  10170.000000    2.520000    4.060000  \n",
       "\n",
       "[8 rows x 21 columns]"
      ]
     },
     "execution_count": 77,
     "metadata": {},
     "output_type": "execute_result"
    }
   ],
   "source": [
    "data.describe()"
   ]
  },
  {
   "cell_type": "code",
   "execution_count": 118,
   "metadata": {},
   "outputs": [
    {
     "data": {
      "text/plain": [
       "Transit            235\n",
       "Radial Velocity      3\n",
       "Name: pl_discmethod, dtype: int64"
      ]
     },
     "execution_count": 118,
     "metadata": {},
     "output_type": "execute_result"
    }
   ],
   "source": [
    "data['pl_discmethod'].value_counts()"
   ]
  },
  {
   "cell_type": "code",
   "execution_count": 25,
   "metadata": {},
   "outputs": [
    {
     "data": {
      "text/html": [
       "<div>\n",
       "<style scoped>\n",
       "    .dataframe tbody tr th:only-of-type {\n",
       "        vertical-align: middle;\n",
       "    }\n",
       "\n",
       "    .dataframe tbody tr th {\n",
       "        vertical-align: top;\n",
       "    }\n",
       "\n",
       "    .dataframe thead th {\n",
       "        text-align: right;\n",
       "    }\n",
       "</style>\n",
       "<table border=\"1\" class=\"dataframe\">\n",
       "  <thead>\n",
       "    <tr style=\"text-align: right;\">\n",
       "      <th></th>\n",
       "      <th>loc_rowid</th>\n",
       "      <th>pl_pnum</th>\n",
       "      <th>pl_orbper</th>\n",
       "      <th>pl_orbsmax</th>\n",
       "      <th>pl_orbeccen</th>\n",
       "      <th>pl_orbincl</th>\n",
       "      <th>pl_bmassj</th>\n",
       "      <th>pl_radj</th>\n",
       "      <th>pl_dens</th>\n",
       "      <th>pl_ttvflag</th>\n",
       "      <th>...</th>\n",
       "      <th>pl_k2flag</th>\n",
       "      <th>pl_nnotes</th>\n",
       "      <th>ra</th>\n",
       "      <th>dec</th>\n",
       "      <th>st_dist</th>\n",
       "      <th>st_optmag</th>\n",
       "      <th>gaia_gmag</th>\n",
       "      <th>st_teff</th>\n",
       "      <th>st_mass</th>\n",
       "      <th>st_rad</th>\n",
       "    </tr>\n",
       "  </thead>\n",
       "  <tbody>\n",
       "    <tr>\n",
       "      <th>count</th>\n",
       "      <td>238.000000</td>\n",
       "      <td>238.000000</td>\n",
       "      <td>238.000000</td>\n",
       "      <td>238.000000</td>\n",
       "      <td>238.000000</td>\n",
       "      <td>238.000000</td>\n",
       "      <td>238.000000</td>\n",
       "      <td>238.000000</td>\n",
       "      <td>238.000000</td>\n",
       "      <td>238.000000</td>\n",
       "      <td>...</td>\n",
       "      <td>238.000000</td>\n",
       "      <td>238.000000</td>\n",
       "      <td>238.000000</td>\n",
       "      <td>238.000000</td>\n",
       "      <td>238.000000</td>\n",
       "      <td>238.000000</td>\n",
       "      <td>238.000000</td>\n",
       "      <td>238.000000</td>\n",
       "      <td>238.000000</td>\n",
       "      <td>238.000000</td>\n",
       "    </tr>\n",
       "    <tr>\n",
       "      <th>mean</th>\n",
       "      <td>1870.579832</td>\n",
       "      <td>1.596639</td>\n",
       "      <td>18.953797</td>\n",
       "      <td>0.097517</td>\n",
       "      <td>0.096867</td>\n",
       "      <td>87.148029</td>\n",
       "      <td>1.360791</td>\n",
       "      <td>1.030727</td>\n",
       "      <td>1.851812</td>\n",
       "      <td>0.147059</td>\n",
       "      <td>...</td>\n",
       "      <td>0.105042</td>\n",
       "      <td>0.336134</td>\n",
       "      <td>217.868385</td>\n",
       "      <td>8.923423</td>\n",
       "      <td>527.628950</td>\n",
       "      <td>13.018134</td>\n",
       "      <td>12.797328</td>\n",
       "      <td>5573.731092</td>\n",
       "      <td>1.037941</td>\n",
       "      <td>1.181975</td>\n",
       "    </tr>\n",
       "    <tr>\n",
       "      <th>std</th>\n",
       "      <td>1474.296585</td>\n",
       "      <td>1.474505</td>\n",
       "      <td>77.061609</td>\n",
       "      <td>0.183751</td>\n",
       "      <td>0.149159</td>\n",
       "      <td>2.404734</td>\n",
       "      <td>2.633603</td>\n",
       "      <td>0.462131</td>\n",
       "      <td>2.957572</td>\n",
       "      <td>0.354911</td>\n",
       "      <td>...</td>\n",
       "      <td>0.307254</td>\n",
       "      <td>0.555408</td>\n",
       "      <td>105.821989</td>\n",
       "      <td>34.635561</td>\n",
       "      <td>451.712066</td>\n",
       "      <td>1.908852</td>\n",
       "      <td>1.750120</td>\n",
       "      <td>835.893637</td>\n",
       "      <td>0.288883</td>\n",
       "      <td>0.490919</td>\n",
       "    </tr>\n",
       "    <tr>\n",
       "      <th>min</th>\n",
       "      <td>65.000000</td>\n",
       "      <td>1.000000</td>\n",
       "      <td>0.788839</td>\n",
       "      <td>0.011110</td>\n",
       "      <td>0.000000</td>\n",
       "      <td>78.300000</td>\n",
       "      <td>0.000910</td>\n",
       "      <td>0.063000</td>\n",
       "      <td>0.052000</td>\n",
       "      <td>0.000000</td>\n",
       "      <td>...</td>\n",
       "      <td>0.000000</td>\n",
       "      <td>0.000000</td>\n",
       "      <td>0.362142</td>\n",
       "      <td>-70.152832</td>\n",
       "      <td>6.550000</td>\n",
       "      <td>5.570000</td>\n",
       "      <td>5.208000</td>\n",
       "      <td>2559.000000</td>\n",
       "      <td>0.080000</td>\n",
       "      <td>0.120000</td>\n",
       "    </tr>\n",
       "    <tr>\n",
       "      <th>25%</th>\n",
       "      <td>251.250000</td>\n",
       "      <td>1.000000</td>\n",
       "      <td>2.746324</td>\n",
       "      <td>0.037143</td>\n",
       "      <td>0.000000</td>\n",
       "      <td>85.805000</td>\n",
       "      <td>0.220000</td>\n",
       "      <td>0.788750</td>\n",
       "      <td>0.392250</td>\n",
       "      <td>0.000000</td>\n",
       "      <td>...</td>\n",
       "      <td>0.000000</td>\n",
       "      <td>0.000000</td>\n",
       "      <td>122.062196</td>\n",
       "      <td>-21.429422</td>\n",
       "      <td>235.515000</td>\n",
       "      <td>12.035750</td>\n",
       "      <td>11.888000</td>\n",
       "      <td>5345.250000</td>\n",
       "      <td>0.920000</td>\n",
       "      <td>0.900000</td>\n",
       "    </tr>\n",
       "    <tr>\n",
       "      <th>50%</th>\n",
       "      <td>1416.500000</td>\n",
       "      <td>1.000000</td>\n",
       "      <td>3.642068</td>\n",
       "      <td>0.046950</td>\n",
       "      <td>0.032150</td>\n",
       "      <td>87.610000</td>\n",
       "      <td>0.683000</td>\n",
       "      <td>1.121000</td>\n",
       "      <td>0.817000</td>\n",
       "      <td>0.000000</td>\n",
       "      <td>...</td>\n",
       "      <td>0.000000</td>\n",
       "      <td>0.000000</td>\n",
       "      <td>280.224865</td>\n",
       "      <td>7.511709</td>\n",
       "      <td>435.000000</td>\n",
       "      <td>12.920000</td>\n",
       "      <td>12.805500</td>\n",
       "      <td>5667.000000</td>\n",
       "      <td>1.035000</td>\n",
       "      <td>1.090000</td>\n",
       "    </tr>\n",
       "    <tr>\n",
       "      <th>75%</th>\n",
       "      <td>3609.750000</td>\n",
       "      <td>1.000000</td>\n",
       "      <td>7.566370</td>\n",
       "      <td>0.069375</td>\n",
       "      <td>0.123000</td>\n",
       "      <td>89.057500</td>\n",
       "      <td>1.348750</td>\n",
       "      <td>1.318000</td>\n",
       "      <td>1.875000</td>\n",
       "      <td>0.000000</td>\n",
       "      <td>...</td>\n",
       "      <td>0.000000</td>\n",
       "      <td>1.000000</td>\n",
       "      <td>297.115123</td>\n",
       "      <td>41.909138</td>\n",
       "      <td>671.550000</td>\n",
       "      <td>14.024250</td>\n",
       "      <td>13.791500</td>\n",
       "      <td>6025.000000</td>\n",
       "      <td>1.190000</td>\n",
       "      <td>1.437500</td>\n",
       "    </tr>\n",
       "    <tr>\n",
       "      <th>max</th>\n",
       "      <td>3790.000000</td>\n",
       "      <td>7.000000</td>\n",
       "      <td>1047.835600</td>\n",
       "      <td>2.026000</td>\n",
       "      <td>0.836000</td>\n",
       "      <td>90.760000</td>\n",
       "      <td>27.230000</td>\n",
       "      <td>2.085000</td>\n",
       "      <td>24.700000</td>\n",
       "      <td>1.000000</td>\n",
       "      <td>...</td>\n",
       "      <td>1.000000</td>\n",
       "      <td>3.000000</td>\n",
       "      <td>359.348991</td>\n",
       "      <td>73.827682</td>\n",
       "      <td>3200.000000</td>\n",
       "      <td>18.800000</td>\n",
       "      <td>16.555000</td>\n",
       "      <td>10170.000000</td>\n",
       "      <td>2.520000</td>\n",
       "      <td>4.060000</td>\n",
       "    </tr>\n",
       "  </tbody>\n",
       "</table>\n",
       "<p>8 rows × 21 columns</p>\n",
       "</div>"
      ],
      "text/plain": [
       "         loc_rowid     pl_pnum    pl_orbper  pl_orbsmax  pl_orbeccen  \\\n",
       "count   238.000000  238.000000   238.000000  238.000000   238.000000   \n",
       "mean   1870.579832    1.596639    18.953797    0.097517     0.096867   \n",
       "std    1474.296585    1.474505    77.061609    0.183751     0.149159   \n",
       "min      65.000000    1.000000     0.788839    0.011110     0.000000   \n",
       "25%     251.250000    1.000000     2.746324    0.037143     0.000000   \n",
       "50%    1416.500000    1.000000     3.642068    0.046950     0.032150   \n",
       "75%    3609.750000    1.000000     7.566370    0.069375     0.123000   \n",
       "max    3790.000000    7.000000  1047.835600    2.026000     0.836000   \n",
       "\n",
       "       pl_orbincl   pl_bmassj     pl_radj     pl_dens  pl_ttvflag     ...      \\\n",
       "count  238.000000  238.000000  238.000000  238.000000  238.000000     ...       \n",
       "mean    87.148029    1.360791    1.030727    1.851812    0.147059     ...       \n",
       "std      2.404734    2.633603    0.462131    2.957572    0.354911     ...       \n",
       "min     78.300000    0.000910    0.063000    0.052000    0.000000     ...       \n",
       "25%     85.805000    0.220000    0.788750    0.392250    0.000000     ...       \n",
       "50%     87.610000    0.683000    1.121000    0.817000    0.000000     ...       \n",
       "75%     89.057500    1.348750    1.318000    1.875000    0.000000     ...       \n",
       "max     90.760000   27.230000    2.085000   24.700000    1.000000     ...       \n",
       "\n",
       "        pl_k2flag   pl_nnotes          ra         dec      st_dist  \\\n",
       "count  238.000000  238.000000  238.000000  238.000000   238.000000   \n",
       "mean     0.105042    0.336134  217.868385    8.923423   527.628950   \n",
       "std      0.307254    0.555408  105.821989   34.635561   451.712066   \n",
       "min      0.000000    0.000000    0.362142  -70.152832     6.550000   \n",
       "25%      0.000000    0.000000  122.062196  -21.429422   235.515000   \n",
       "50%      0.000000    0.000000  280.224865    7.511709   435.000000   \n",
       "75%      0.000000    1.000000  297.115123   41.909138   671.550000   \n",
       "max      1.000000    3.000000  359.348991   73.827682  3200.000000   \n",
       "\n",
       "        st_optmag   gaia_gmag       st_teff     st_mass      st_rad  \n",
       "count  238.000000  238.000000    238.000000  238.000000  238.000000  \n",
       "mean    13.018134   12.797328   5573.731092    1.037941    1.181975  \n",
       "std      1.908852    1.750120    835.893637    0.288883    0.490919  \n",
       "min      5.570000    5.208000   2559.000000    0.080000    0.120000  \n",
       "25%     12.035750   11.888000   5345.250000    0.920000    0.900000  \n",
       "50%     12.920000   12.805500   5667.000000    1.035000    1.090000  \n",
       "75%     14.024250   13.791500   6025.000000    1.190000    1.437500  \n",
       "max     18.800000   16.555000  10170.000000    2.520000    4.060000  \n",
       "\n",
       "[8 rows x 21 columns]"
      ]
     },
     "execution_count": 25,
     "metadata": {},
     "output_type": "execute_result"
    }
   ],
   "source": [
    "data.dropna().describe()"
   ]
  },
  {
   "cell_type": "code",
   "execution_count": 79,
   "metadata": {},
   "outputs": [
    {
     "data": {
      "text/plain": [
       "<matplotlib.axes._subplots.AxesSubplot at 0x1a1b74d908>"
      ]
     },
     "execution_count": 79,
     "metadata": {},
     "output_type": "execute_result"
    },
    {
     "data": {
      "image/png": "[encoded data removed]",
      "text/plain": [
       "<Figure size 432x288 with 1 Axes>"
      ]
     },
     "metadata": {},
     "output_type": "display_data"
    }
   ],
   "source": [
    "sns.violinplot(y='pl_discmethod', x=\"st_mass\", data=data)"
   ]
  },
  {
   "cell_type": "code",
   "execution_count": 68,
   "metadata": {},
   "outputs": [
    {
     "data": {
      "text/plain": [
       "Transit            235\n",
       "Radial Velocity      3\n",
       "Name: pl_discmethod, dtype: int64"
      ]
     },
     "execution_count": 68,
     "metadata": {},
     "output_type": "execute_result"
    }
   ],
   "source": [
    "data = data.dropna()\n",
    "data = data[data.pl_discmethod != 'Astrometry']\n",
    "data = data[data.pl_discmethod != 'Pulsation Timing Variations']\n",
    "data['pl_discmethod'].value_counts()"
   ]
  },
  {
   "cell_type": "code",
   "execution_count": 93,
   "metadata": {},
   "outputs": [
    {
     "data": {
      "text/plain": [
       "[<matplotlib.lines.Line2D at 0x1a1ba5e208>]"
      ]
     },
     "execution_count": 93,
     "metadata": {},
     "output_type": "execute_result"
    },
    {
     "data": {
      "image/png": "[encoded data removed]",
      "text/plain": [
       "<Figure size 432x288 with 1 Axes>"
      ]
     },
     "metadata": {},
     "output_type": "display_data"
    }
   ],
   "source": [
    "plt.plot(data[\"st_mass\"], data[\"st_rad\"], '.', c=\"red\")"
   ]
  },
  {
   "cell_type": "code",
   "execution_count": 117,
   "metadata": {},
   "outputs": [
    {
     "data": {
      "text/plain": [
       "[<matplotlib.lines.Line2D at 0x1a1c30b6d8>]"
      ]
     },
     "execution_count": 117,
     "metadata": {},
     "output_type": "execute_result"
    },
    {
     "data": {
      "image/png": "[encoded data removed]",
      "text/plain": [
       "<Figure size 432x288 with 1 Axes>"
      ]
     },
     "metadata": {},
     "output_type": "display_data"
    }
   ],
   "source": [
    "plt.plot(data[\"st_mass\"], data[\"pl_dens\"], '.', c=\"red\")"
   ]
  },
  {
   "cell_type": "code",
   "execution_count": 62,
   "metadata": {},
   "outputs": [
    {
     "data": {
      "text/plain": [
       "(array([3.478e+03, 5.400e+01, 1.200e+01, 6.000e+00, 3.000e+00, 5.000e+00,\n",
       "        2.000e+00, 4.000e+00, 0.000e+00, 3.000e+00]),\n",
       " array([4.0000e-02, 7.1590e+00, 1.4278e+01, 2.1397e+01, 2.8516e+01,\n",
       "        3.5635e+01, 4.2754e+01, 4.9873e+01, 5.6992e+01, 6.4111e+01,\n",
       "        7.1230e+01]),\n",
       " <a list of 10 Patch objects>)"
      ]
     },
     "execution_count": 62,
     "metadata": {},
     "output_type": "execute_result"
    },
    {
     "data": {
      "image/png": "[encoded data removed]",
      "text/plain": [
       "<Figure size 432x288 with 1 Axes>"
      ]
     },
     "metadata": {},
     "output_type": "display_data"
    }
   ],
   "source": [
    "plt.hist(data[\"st_rad\"].dropna())"
   ]
  },
  {
   "cell_type": "code",
   "execution_count": 63,
   "metadata": {},
   "outputs": [
    {
     "data": {
      "text/plain": [
       "(array([3.011e+03, 3.100e+01, 1.000e+00, 2.000e+00, 3.000e+00, 0.000e+00,\n",
       "        0.000e+00, 0.000e+00, 0.000e+00, 1.000e+00]),\n",
       " array([2.0000e-02, 2.3740e+00, 4.7280e+00, 7.0820e+00, 9.4360e+00,\n",
       "        1.1790e+01, 1.4144e+01, 1.6498e+01, 1.8852e+01, 2.1206e+01,\n",
       "        2.3560e+01]),\n",
       " <a list of 10 Patch objects>)"
      ]
     },
     "execution_count": 63,
     "metadata": {},
     "output_type": "execute_result"
    },
    {
     "data": {
      "image/png": "[encoded data removed]",
      "text/plain": [
       "<Figure size 432x288 with 1 Axes>"
      ]
     },
     "metadata": {},
     "output_type": "display_data"
    }
   ],
   "source": [
    "plt.hist(data[\"st_mass\"].dropna())"
   ]
  },
  {
   "cell_type": "code",
   "execution_count": 81,
   "metadata": {},
   "outputs": [
    {
     "data": {
      "text/plain": [
       "<pandas.core.groupby.groupby.DataFrameGroupBy object at 0x1a1acc4d30>"
      ]
     },
     "execution_count": 81,
     "metadata": {},
     "output_type": "execute_result"
    }
   ],
   "source": [
    "data.groupby('pl_discmethod')"
   ]
  },
  {
   "cell_type": "code",
   "execution_count": 112,
   "metadata": {},
   "outputs": [
    {
     "data": {
      "image/png": "[encoded data removed]",
      "text/plain": [
       "<Figure size 432x288 with 4 Axes>"
      ]
     },
     "metadata": {},
     "output_type": "display_data"
    }
   ],
   "source": [
    "for i, item in enumerate((\"st_teff\", \"st_mass\", \"st_rad\", \"pl_dens\")):\n",
    "    plt.subplot(3, 3, i+1)\n",
    "    plt.hist(data[item])"
   ]
  },
  {
   "cell_type": "code",
   "execution_count": null,
   "metadata": {},
   "outputs": [],
   "source": []
  }
 ],
 "metadata": {
  "kernelspec": {
   "display_name": "Python 3 (ipykernel)",
   "language": "python",
   "name": "python3"
  },
  "language_info": {
   "codemirror_mode": {
    "name": "ipython",
    "version": 3
   },
   "file_extension": ".py",
   "mimetype": "text/x-python",
   "name": "python",
   "nbconvert_exporter": "python",
   "pygments_lexer": "ipython3",
   "version": "3.7.15"
  }
 },
 "nbformat": 4,
 "nbformat_minor": 2
}
